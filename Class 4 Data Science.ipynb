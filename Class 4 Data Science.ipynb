{
 "cells": [
  {
   "cell_type": "code",
   "execution_count": 1,
   "id": "933998e7-19d8-4beb-9404-d3e5daa7a9c6",
   "metadata": {},
   "outputs": [],
   "source": [
    "name=\"Data Science Masters\""
   ]
  },
  {
   "cell_type": "code",
   "execution_count": 2,
   "id": "28121e50-a68d-4d88-877c-272c727fd2fc",
   "metadata": {},
   "outputs": [
    {
     "data": {
      "text/plain": [
       "'dATA sCIENCE mASTERS'"
      ]
     },
     "execution_count": 2,
     "metadata": {},
     "output_type": "execute_result"
    }
   ],
   "source": [
    "name.swapcase()"
   ]
  },
  {
   "cell_type": "code",
   "execution_count": 3,
   "id": "dabb224b-9483-4a74-b53c-6c9427c451bb",
   "metadata": {},
   "outputs": [
    {
     "data": {
      "text/plain": [
       "'Data Science Masters'"
      ]
     },
     "execution_count": 3,
     "metadata": {},
     "output_type": "execute_result"
    }
   ],
   "source": [
    "name.title()"
   ]
  },
  {
   "cell_type": "code",
   "execution_count": 4,
   "id": "0bcab5d3-7ea7-4148-bb45-9311d9ac249d",
   "metadata": {},
   "outputs": [
    {
     "data": {
      "text/plain": [
       "'Data science masters'"
      ]
     },
     "execution_count": 4,
     "metadata": {},
     "output_type": "execute_result"
    }
   ],
   "source": [
    "name.capitalize() # First character Capital and others are lower"
   ]
  },
  {
   "cell_type": "markdown",
   "id": "bb69159c-f302-4c85-83a9-f4eb07b545c8",
   "metadata": {},
   "source": [
    "# Reversing a String"
   ]
  },
  {
   "cell_type": "code",
   "execution_count": 7,
   "id": "b0b5b47c-ea38-4ce9-afa8-e5da877ff68c",
   "metadata": {},
   "outputs": [
    {
     "data": {
      "text/plain": [
       "'sretsaM ecneicS ataD'"
      ]
     },
     "execution_count": 7,
     "metadata": {},
     "output_type": "execute_result"
    }
   ],
   "source": [
    "name[::-1]"
   ]
  },
  {
   "cell_type": "code",
   "execution_count": 8,
   "id": "adcfffa8-9b7d-4196-b134-6a6f16fbcad0",
   "metadata": {},
   "outputs": [
    {
     "data": {
      "text/plain": [
       "'s r e t s a M   e c n e i c S   a t a D'"
      ]
     },
     "execution_count": 8,
     "metadata": {},
     "output_type": "execute_result"
    }
   ],
   "source": [
    "\" \".join(reversed(name))"
   ]
  },
  {
   "cell_type": "code",
   "execution_count": 11,
   "id": "05f28795-374b-43ee-9fe4-2045f7362a98",
   "metadata": {},
   "outputs": [
    {
     "data": {
      "text/plain": [
       "'a b c d'"
      ]
     },
     "execution_count": 11,
     "metadata": {},
     "output_type": "execute_result"
    }
   ],
   "source": [
    "\" \".join(\"abcd\")"
   ]
  },
  {
   "cell_type": "code",
   "execution_count": 12,
   "id": "2d7c61de-756a-4b52-a8a2-6249efaab531",
   "metadata": {},
   "outputs": [
    {
     "data": {
      "text/plain": [
       "'a n t'"
      ]
     },
     "execution_count": 12,
     "metadata": {},
     "output_type": "execute_result"
    }
   ],
   "source": [
    "\" \".join(\"ant\")"
   ]
  },
  {
   "cell_type": "code",
   "execution_count": 16,
   "id": "45bbacae-a669-4f1b-b1db-d22bde7f60d4",
   "metadata": {},
   "outputs": [
    {
     "data": {
      "text/plain": [
       "'t n a'"
      ]
     },
     "execution_count": 16,
     "metadata": {},
     "output_type": "execute_result"
    }
   ],
   "source": [
    "\" \".join(reversed(\"ant\"))"
   ]
  },
  {
   "cell_type": "code",
   "execution_count": 17,
   "id": "da7aca86-4120-4e3b-bf48-1c47dc4a5643",
   "metadata": {},
   "outputs": [
    {
     "data": {
      "text/plain": [
       "'t PWSKILLS n PWSKILLS a'"
      ]
     },
     "execution_count": 17,
     "metadata": {},
     "output_type": "execute_result"
    }
   ],
   "source": [
    "\" PWSKILLS \".join(reversed(\"ant\"))"
   ]
  },
  {
   "cell_type": "code",
   "execution_count": 18,
   "id": "7669ac96-df12-4701-88be-5c226ed5ee2d",
   "metadata": {},
   "outputs": [
    {
     "data": {
      "text/plain": [
       "['t', 'n', 'a']"
      ]
     },
     "execution_count": 18,
     "metadata": {},
     "output_type": "execute_result"
    }
   ],
   "source": [
    "list(reversed(\"ant\"))"
   ]
  },
  {
   "cell_type": "code",
   "execution_count": 19,
   "id": "08bab033-10f4-44a7-84b2-b4f10990168f",
   "metadata": {},
   "outputs": [],
   "source": [
    "str1=\"Pw is a good companny\""
   ]
  },
  {
   "cell_type": "code",
   "execution_count": null,
   "id": "943460d7-6960-4bc3-968e-730f2a27da09",
   "metadata": {},
   "outputs": [],
   "source": [
    "\" Skills\""
   ]
  },
  {
   "cell_type": "code",
   "execution_count": 20,
   "id": "89e7a3b1-6f13-4a31-ac15-d6db1d83b6a2",
   "metadata": {},
   "outputs": [],
   "source": [
    "#Removing Charaters from the end of the string"
   ]
  },
  {
   "cell_type": "code",
   "execution_count": 21,
   "id": "c78995bd-912f-4594-bbff-2998c5199d07",
   "metadata": {},
   "outputs": [],
   "source": [
    "str1=\" Pwskills \""
   ]
  },
  {
   "cell_type": "code",
   "execution_count": 22,
   "id": "1df3e374-dabe-45a2-92d4-8301a2b94dd8",
   "metadata": {},
   "outputs": [
    {
     "data": {
      "text/plain": [
       "'Pwskills'"
      ]
     },
     "execution_count": 22,
     "metadata": {},
     "output_type": "execute_result"
    }
   ],
   "source": [
    "str1.strip() #Removing Charaters from the end of the string"
   ]
  },
  {
   "cell_type": "code",
   "execution_count": 23,
   "id": "24485f32-aacd-4eff-898e-df0e11161c91",
   "metadata": {},
   "outputs": [
    {
     "data": {
      "text/plain": [
       "'Pwskills '"
      ]
     },
     "execution_count": 23,
     "metadata": {},
     "output_type": "execute_result"
    }
   ],
   "source": [
    "str1.lstrip() #Removing Charaters from the left of the string"
   ]
  },
  {
   "cell_type": "code",
   "execution_count": 24,
   "id": "cb81833c-eb3d-480e-a80f-45d6f7650b64",
   "metadata": {},
   "outputs": [
    {
     "data": {
      "text/plain": [
       "' Pwskills'"
      ]
     },
     "execution_count": 24,
     "metadata": {},
     "output_type": "execute_result"
    }
   ],
   "source": [
    "str1.rstrip() #Removing Charaters from the right of the string"
   ]
  },
  {
   "cell_type": "markdown",
   "id": "b06c7741-85c7-4602-bc6f-ff105b53c52d",
   "metadata": {},
   "source": [
    "### Replace string"
   ]
  },
  {
   "cell_type": "code",
   "execution_count": 26,
   "id": "bf1f924e-cdf0-42cb-9154-9b87a0b4cfe2",
   "metadata": {},
   "outputs": [
    {
     "data": {
      "text/plain": [
       "'Greetings from Pwskills'"
      ]
     },
     "execution_count": 26,
     "metadata": {},
     "output_type": "execute_result"
    }
   ],
   "source": [
    "string_n = \"Greetings to Pwskills\"\n",
    "string_n.replace(\"to\",\"from\")"
   ]
  },
  {
   "cell_type": "code",
   "execution_count": 31,
   "id": "366c70ce-183c-4143-9c95-6f2c3ebb8bf3",
   "metadata": {},
   "outputs": [],
   "source": [
    "string_n = \"Greetings to Pwskills\"\n",
    "var_a=string_n.replace(\"G\",\"T\")"
   ]
  },
  {
   "cell_type": "code",
   "execution_count": 33,
   "id": "cfe67e4d-46fa-4c56-9cf7-1d99cc73ca31",
   "metadata": {},
   "outputs": [
    {
     "name": "stdout",
     "output_type": "stream",
     "text": [
      "140386005435056\n",
      "140386005435776\n"
     ]
    }
   ],
   "source": [
    "print(id(string_n))\n",
    "print(id(var_a))"
   ]
  },
  {
   "cell_type": "code",
   "execution_count": 35,
   "id": "0c5217ff-6d11-47b6-a159-5a5bf4fef80c",
   "metadata": {},
   "outputs": [
    {
     "data": {
      "text/plain": [
       "'Hello   World'"
      ]
     },
     "execution_count": 35,
     "metadata": {},
     "output_type": "execute_result"
    }
   ],
   "source": [
    "\"Hello\\tWorld\".expandtabs() #covert \\t ro space"
   ]
  },
  {
   "cell_type": "code",
   "execution_count": 36,
   "id": "a9954154-0ca7-460a-b3e2-c46cdd85a0e6",
   "metadata": {},
   "outputs": [],
   "source": [
    "str1=\"Welcome to pwskills.Welcome to Dat Cience\""
   ]
  },
  {
   "cell_type": "code",
   "execution_count": 40,
   "id": "0ac9aae1-3068-4dd5-9b36-9725f36812b2",
   "metadata": {},
   "outputs": [
    {
     "data": {
      "text/plain": [
       "'Welcome to pwskills.Welcome to Data Science'"
      ]
     },
     "execution_count": 40,
     "metadata": {},
     "output_type": "execute_result"
    }
   ],
   "source": [
    "str1.replace(\"Dat\",\"Data\").replace(\"Cience\",\"Science\")"
   ]
  },
  {
   "cell_type": "code",
   "execution_count": 42,
   "id": "39781105-0fc4-44aa-900d-e4f7be9e18da",
   "metadata": {},
   "outputs": [],
   "source": [
    "str1=\"PRADOSH\""
   ]
  },
  {
   "cell_type": "code",
   "execution_count": 44,
   "id": "dd17ae89-0a0d-4e03-a2d4-b45d43f1766c",
   "metadata": {},
   "outputs": [
    {
     "data": {
      "text/plain": [
       "True"
      ]
     },
     "execution_count": 44,
     "metadata": {},
     "output_type": "execute_result"
    }
   ],
   "source": [
    "str1.isupper()"
   ]
  },
  {
   "cell_type": "code",
   "execution_count": 45,
   "id": "b01579a8-9b2b-4f01-bf56-c982a4aaa022",
   "metadata": {},
   "outputs": [
    {
     "data": {
      "text/plain": [
       "False"
      ]
     },
     "execution_count": 45,
     "metadata": {},
     "output_type": "execute_result"
    }
   ],
   "source": [
    "str1.islower()"
   ]
  },
  {
   "cell_type": "code",
   "execution_count": 47,
   "id": "9f127f58-458f-4068-991f-76702dd66b79",
   "metadata": {},
   "outputs": [
    {
     "data": {
      "text/plain": [
       "True"
      ]
     },
     "execution_count": 47,
     "metadata": {},
     "output_type": "execute_result"
    }
   ],
   "source": [
    "' '.isspace()"
   ]
  },
  {
   "cell_type": "code",
   "execution_count": 48,
   "id": "175169d8-51cb-4e6c-8620-8ab058de5912",
   "metadata": {},
   "outputs": [
    {
     "name": "stdout",
     "output_type": "stream",
     "text": [
      "Good\n"
     ]
    }
   ],
   "source": [
    "if \" \".isspace():\n",
    "    print(\"Good\")"
   ]
  },
  {
   "cell_type": "code",
   "execution_count": 49,
   "id": "0441d832-50c1-4b91-b240-fdf34d9ebdb9",
   "metadata": {},
   "outputs": [],
   "source": [
    "str2=\"Pwskills\""
   ]
  },
  {
   "cell_type": "code",
   "execution_count": 52,
   "id": "0c218b02-aa6e-420b-b49d-4792c515b468",
   "metadata": {},
   "outputs": [
    {
     "data": {
      "text/plain": [
       "True"
      ]
     },
     "execution_count": 52,
     "metadata": {},
     "output_type": "execute_result"
    }
   ],
   "source": [
    "str2.endswith('s')"
   ]
  },
  {
   "cell_type": "code",
   "execution_count": 54,
   "id": "cedc76e1-54e8-41ad-9bbc-a7aeb81b6c65",
   "metadata": {},
   "outputs": [
    {
     "data": {
      "text/plain": [
       "True"
      ]
     },
     "execution_count": 54,
     "metadata": {},
     "output_type": "execute_result"
    }
   ],
   "source": [
    "str2.startswith('P')"
   ]
  },
  {
   "cell_type": "code",
   "execution_count": 57,
   "id": "cdc9799f-598c-4efc-bae7-21bb0ae35c8b",
   "metadata": {},
   "outputs": [
    {
     "data": {
      "text/plain": [
       "True"
      ]
     },
     "execution_count": 57,
     "metadata": {},
     "output_type": "execute_result"
    }
   ],
   "source": [
    "## Cheak if all the Char in string are alphanumeric\n",
    "a=\"abcd1234\"\n",
    "a.isalnum()"
   ]
  },
  {
   "cell_type": "code",
   "execution_count": 58,
   "id": "3717826a-7994-4b74-a5d0-3156dd752c9a",
   "metadata": {},
   "outputs": [],
   "source": [
    "## Write a code to count number of char in string"
   ]
  },
  {
   "cell_type": "code",
   "execution_count": 60,
   "id": "71b3e4ce-1fd9-4f25-b677-ef9c8356420c",
   "metadata": {},
   "outputs": [
    {
     "name": "stdout",
     "output_type": "stream",
     "text": [
      "8\n"
     ]
    }
   ],
   "source": [
    "count=0\n",
    "for i in str2:\n",
    "    count=count+1\n",
    "print(count)"
   ]
  },
  {
   "cell_type": "code",
   "execution_count": 61,
   "id": "61e18bbb-ee16-45a9-b590-819d8bee47a4",
   "metadata": {},
   "outputs": [
    {
     "data": {
      "text/plain": [
       "8"
      ]
     },
     "execution_count": 61,
     "metadata": {},
     "output_type": "execute_result"
    }
   ],
   "source": [
    "len(str2)"
   ]
  },
  {
   "cell_type": "code",
   "execution_count": 62,
   "id": "786e08cd-6c38-45b8-af17-4e97ae971c91",
   "metadata": {},
   "outputs": [
    {
     "data": {
      "text/plain": [
       "'Pwskills'"
      ]
     },
     "execution_count": 62,
     "metadata": {},
     "output_type": "execute_result"
    }
   ],
   "source": [
    "str2"
   ]
  },
  {
   "cell_type": "code",
   "execution_count": 63,
   "id": "f65ce633-e84f-446d-8b6d-29ccf61b1567",
   "metadata": {},
   "outputs": [
    {
     "name": "stdout",
     "output_type": "stream",
     "text": [
      "P\n",
      "w\n",
      "s\n",
      "k\n",
      "i\n",
      "l\n",
      "l\n",
      "s\n"
     ]
    }
   ],
   "source": [
    "for i in str2:\n",
    "    print(i)"
   ]
  },
  {
   "cell_type": "code",
   "execution_count": 65,
   "id": "92b67522-e667-488e-8f71-1e0247282ba7",
   "metadata": {},
   "outputs": [
    {
     "data": {
      "text/plain": [
       "range(0, 8)"
      ]
     },
     "execution_count": 65,
     "metadata": {},
     "output_type": "execute_result"
    }
   ],
   "source": [
    "range(len(str2))"
   ]
  },
  {
   "cell_type": "code",
   "execution_count": 64,
   "id": "9931469a-4c54-4ada-89a1-70c3b7b09754",
   "metadata": {},
   "outputs": [
    {
     "name": "stdout",
     "output_type": "stream",
     "text": [
      "P\n",
      "w\n",
      "s\n",
      "k\n",
      "i\n",
      "l\n",
      "l\n",
      "s\n"
     ]
    }
   ],
   "source": [
    "for i in range(len(str2)):\n",
    "    print(str2[i])"
   ]
  },
  {
   "cell_type": "code",
   "execution_count": 67,
   "id": "6b6039c2-c365-483b-817a-31b84f004237",
   "metadata": {},
   "outputs": [
    {
     "name": "stdout",
     "output_type": "stream",
     "text": [
      "0 = P\n",
      "1 = w\n",
      "2 = s\n",
      "3 = k\n",
      "4 = i\n",
      "5 = l\n",
      "6 = l\n",
      "7 = s\n"
     ]
    }
   ],
   "source": [
    "for i in range(len(str2)):\n",
    "    print(i,\"=\",str2[i])"
   ]
  },
  {
   "cell_type": "code",
   "execution_count": 69,
   "id": "70cf43f3-6309-4df0-9a6e-8b8c5a70c194",
   "metadata": {},
   "outputs": [
    {
     "name": "stdout",
     "output_type": "stream",
     "text": [
      "s\n",
      "l\n",
      "l\n",
      "i\n",
      "k\n",
      "s\n",
      "w\n",
      "P\n"
     ]
    }
   ],
   "source": [
    "for i in range(len(str2)-1,-1,-1):\n",
    "    print(str2[i])"
   ]
  },
  {
   "cell_type": "code",
   "execution_count": 3,
   "id": "5b3e41c8-9fca-49d0-ac6d-6dc37647b2f0",
   "metadata": {},
   "outputs": [
    {
     "name": "stdout",
     "output_type": "stream",
     "text": [
      "s\n",
      "l\n",
      "l\n",
      "i\n",
      "k\n",
      "s\n",
      "w\n",
      "p\n"
     ]
    }
   ],
   "source": [
    "string=\"pwskills\"\n",
    "ch=len(string)-1\n",
    "while ch>=0:\n",
    "    print(string[ch])\n",
    "    ch=ch-1"
   ]
  },
  {
   "cell_type": "code",
   "execution_count": 74,
   "id": "d393578c-9f05-4afd-a2b8-43e9cd5d87da",
   "metadata": {},
   "outputs": [],
   "source": [
    "Name=\"pwskills\"\n",
    "vowels=\"AaEeIiOoUu\""
   ]
  },
  {
   "cell_type": "code",
   "execution_count": 75,
   "id": "4d0dc912-d2e6-40a4-a395-b3aabd9fe0d6",
   "metadata": {},
   "outputs": [
    {
     "name": "stdout",
     "output_type": "stream",
     "text": [
      "p is not a vowel\n",
      "w is not a vowel\n",
      "s is not a vowel\n",
      "k is not a vowel\n",
      "i is a vowel\n",
      "l is not a vowel\n",
      "l is not a vowel\n",
      "s is not a vowel\n"
     ]
    }
   ],
   "source": [
    "for ch in Name:\n",
    "    if ch in vowels:\n",
    "        print(\"{} is a vowel\".format(ch))\n",
    "    else:\n",
    "        print(\"{} is not a vowel\".format(ch))"
   ]
  },
  {
   "cell_type": "markdown",
   "id": "370d95c1-0695-42c9-af7b-f11da6deb680",
   "metadata": {},
   "source": [
    "# List"
   ]
  },
  {
   "cell_type": "code",
   "execution_count": 76,
   "id": "24c0f25b-b96f-4b9a-9b5d-a87aba3f27d1",
   "metadata": {},
   "outputs": [
    {
     "data": {
      "text/plain": [
       "list"
      ]
     },
     "execution_count": 76,
     "metadata": {},
     "output_type": "execute_result"
    }
   ],
   "source": [
    "type([])"
   ]
  },
  {
   "cell_type": "code",
   "execution_count": 77,
   "id": "43085d01-0bd7-4fc1-83fd-7ee46e790f00",
   "metadata": {},
   "outputs": [
    {
     "data": {
      "text/plain": [
       "['Pradosh', 'Dhruti', 'Master', 32]"
      ]
     },
     "execution_count": 77,
     "metadata": {},
     "output_type": "execute_result"
    }
   ],
   "source": [
    "[\"Pradosh\",\"Dhruti\",\"Master\",32]"
   ]
  },
  {
   "cell_type": "code",
   "execution_count": 5,
   "id": "e79d310f-d57f-45bc-8e96-fb7ecc92769d",
   "metadata": {},
   "outputs": [
    {
     "data": {
      "text/plain": [
       "[1, 2, 3, 4]"
      ]
     },
     "execution_count": 5,
     "metadata": {},
     "output_type": "execute_result"
    }
   ],
   "source": [
    "list([1,2,3,4])"
   ]
  },
  {
   "cell_type": "code",
   "execution_count": 79,
   "id": "94630007-cf54-4487-81e1-7b0fe16b2656",
   "metadata": {},
   "outputs": [
    {
     "data": {
      "text/plain": [
       "'Pwskills'"
      ]
     },
     "execution_count": 79,
     "metadata": {},
     "output_type": "execute_result"
    }
   ],
   "source": [
    "str2"
   ]
  },
  {
   "cell_type": "code",
   "execution_count": 80,
   "id": "b1b42b50-e6d2-4241-97ae-e64c9f30a16c",
   "metadata": {},
   "outputs": [
    {
     "data": {
      "text/plain": [
       "['P', 'w', 's', 'k', 'i', 'l', 'l', 's']"
      ]
     },
     "execution_count": 80,
     "metadata": {},
     "output_type": "execute_result"
    }
   ],
   "source": [
    "list(str2)"
   ]
  },
  {
   "cell_type": "code",
   "execution_count": 7,
   "id": "9e6cb54f-350d-47bf-9471-47eb23a66900",
   "metadata": {},
   "outputs": [],
   "source": [
    "str1=(\"PW skills data science masters\")"
   ]
  },
  {
   "cell_type": "code",
   "execution_count": 8,
   "id": "ace5a960-8892-4355-af19-3df75660801a",
   "metadata": {},
   "outputs": [
    {
     "data": {
      "text/plain": [
       "['PW', 'skills', 'data', 'science', 'masters']"
      ]
     },
     "execution_count": 8,
     "metadata": {},
     "output_type": "execute_result"
    }
   ],
   "source": [
    "list(str1.split())"
   ]
  },
  {
   "cell_type": "code",
   "execution_count": 83,
   "id": "fb6f59ba-9f5e-4dea-8bca-dc5d722eaa45",
   "metadata": {},
   "outputs": [
    {
     "data": {
      "text/plain": [
       "['PW', 'skills', 'data', 'science', 'masters']"
      ]
     },
     "execution_count": 83,
     "metadata": {},
     "output_type": "execute_result"
    }
   ],
   "source": [
    "str1.split()"
   ]
  },
  {
   "cell_type": "code",
   "execution_count": 84,
   "id": "a96171cf-9c6f-4e2d-83a5-08f1790239ce",
   "metadata": {},
   "outputs": [],
   "source": [
    "lst1=str1.split()"
   ]
  },
  {
   "cell_type": "code",
   "execution_count": 86,
   "id": "d5530720-ae35-4130-ac73-da4379fb3fc0",
   "metadata": {},
   "outputs": [
    {
     "data": {
      "text/plain": [
       "'skills'"
      ]
     },
     "execution_count": 86,
     "metadata": {},
     "output_type": "execute_result"
    }
   ],
   "source": [
    "lst1[1]"
   ]
  },
  {
   "cell_type": "code",
   "execution_count": 88,
   "id": "3e0bb6bf-ede7-4ce9-8952-2ebfca0da36b",
   "metadata": {},
   "outputs": [
    {
     "data": {
      "text/plain": [
       "['data', 'science', 'masters']"
      ]
     },
     "execution_count": 88,
     "metadata": {},
     "output_type": "execute_result"
    }
   ],
   "source": [
    "lst1[2:]"
   ]
  },
  {
   "cell_type": "code",
   "execution_count": 89,
   "id": "5efd36b1-b2f3-493b-92b7-4a82d194bfba",
   "metadata": {},
   "outputs": [
    {
     "data": {
      "text/plain": [
       "'science'"
      ]
     },
     "execution_count": 89,
     "metadata": {},
     "output_type": "execute_result"
    }
   ],
   "source": [
    "lst1[-2]"
   ]
  },
  {
   "cell_type": "code",
   "execution_count": 90,
   "id": "97666d67-dca1-4662-9e53-c97ec550839e",
   "metadata": {},
   "outputs": [
    {
     "data": {
      "text/plain": [
       "['masters', 'data', 'PW']"
      ]
     },
     "execution_count": 90,
     "metadata": {},
     "output_type": "execute_result"
    }
   ],
   "source": [
    "lst1[::-2]"
   ]
  },
  {
   "cell_type": "code",
   "execution_count": 91,
   "id": "fbd68677-11ae-4a10-bbd0-da1f7e9e0188",
   "metadata": {},
   "outputs": [
    {
     "data": {
      "text/plain": [
       "['PW']"
      ]
     },
     "execution_count": 91,
     "metadata": {},
     "output_type": "execute_result"
    }
   ],
   "source": [
    "lst1[-5::-2]"
   ]
  },
  {
   "cell_type": "code",
   "execution_count": 92,
   "id": "58839877-49c9-47c1-926b-abb4eac7e8ff",
   "metadata": {},
   "outputs": [
    {
     "data": {
      "text/plain": [
       "['PW', 'skills', 'data', 'science', 'masters']"
      ]
     },
     "execution_count": 92,
     "metadata": {},
     "output_type": "execute_result"
    }
   ],
   "source": [
    "lst1"
   ]
  },
  {
   "cell_type": "code",
   "execution_count": 93,
   "id": "973ef1e3-a973-43ec-bbaa-247f57603030",
   "metadata": {},
   "outputs": [
    {
     "data": {
      "text/plain": [
       "['PW', 'skills', 'data', 'science', 'masters', 'New element', 3]"
      ]
     },
     "execution_count": 93,
     "metadata": {},
     "output_type": "execute_result"
    }
   ],
   "source": [
    "#Concatination operation\n",
    "lst1 +[\"New element\",3]"
   ]
  },
  {
   "cell_type": "code",
   "execution_count": 95,
   "id": "6d1c149d-5581-487e-aa2e-6c8a9bcdefd0",
   "metadata": {},
   "outputs": [],
   "source": [
    "# Multi Concatination operation\n",
    "lst2=lst1 +[[\"New element\",3]]"
   ]
  },
  {
   "cell_type": "code",
   "execution_count": 96,
   "id": "9c2d22fe-b699-4ee8-b5ec-3b7b84bcfb76",
   "metadata": {},
   "outputs": [
    {
     "data": {
      "text/plain": [
       "'New element'"
      ]
     },
     "execution_count": 96,
     "metadata": {},
     "output_type": "execute_result"
    }
   ],
   "source": [
    "lst2[-1][0]"
   ]
  },
  {
   "cell_type": "code",
   "execution_count": 97,
   "id": "1b64d18c-2bef-4f5f-826c-6835bcf029bd",
   "metadata": {},
   "outputs": [
    {
     "data": {
      "text/plain": [
       "['PW', 'skills', 'data', 'science', 'masters']"
      ]
     },
     "execution_count": 97,
     "metadata": {},
     "output_type": "execute_result"
    }
   ],
   "source": [
    "lst1"
   ]
  },
  {
   "cell_type": "code",
   "execution_count": 98,
   "id": "8533146f-e07e-4fca-8634-636b029f9e82",
   "metadata": {},
   "outputs": [
    {
     "data": {
      "text/plain": [
       "['PW',\n",
       " 'skills',\n",
       " 'data',\n",
       " 'science',\n",
       " 'masters',\n",
       " 'PW',\n",
       " 'skills',\n",
       " 'data',\n",
       " 'science',\n",
       " 'masters']"
      ]
     },
     "execution_count": 98,
     "metadata": {},
     "output_type": "execute_result"
    }
   ],
   "source": [
    "lst1*2"
   ]
  },
  {
   "cell_type": "code",
   "execution_count": 99,
   "id": "a8468b31-3cba-43a3-9c93-4cbae2ba90c9",
   "metadata": {},
   "outputs": [
    {
     "data": {
      "text/plain": [
       "['PW', 'skills', 'data', 'science', 'masters']"
      ]
     },
     "execution_count": 99,
     "metadata": {},
     "output_type": "execute_result"
    }
   ],
   "source": [
    "lst1"
   ]
  },
  {
   "cell_type": "code",
   "execution_count": 104,
   "id": "79bc55c3-ed0c-49d5-a29e-21559bb39d34",
   "metadata": {},
   "outputs": [
    {
     "name": "stdout",
     "output_type": "stream",
     "text": [
      "Present\n"
     ]
    }
   ],
   "source": [
    "if \"science\" in lst1:\n",
    "    print(\"Present\")"
   ]
  },
  {
   "cell_type": "code",
   "execution_count": 106,
   "id": "797f231b-b7ab-46cf-8f0e-3fa5e75d9b2c",
   "metadata": {},
   "outputs": [
    {
     "name": "stdout",
     "output_type": "stream",
     "text": [
      "science\n"
     ]
    }
   ],
   "source": [
    "for element in lst1:\n",
    "    if element == \"science\":\n",
    "        print(element)\n",
    "        break"
   ]
  },
  {
   "cell_type": "code",
   "execution_count": 107,
   "id": "d2e14647-b91a-4367-b252-31570a48febf",
   "metadata": {},
   "outputs": [
    {
     "data": {
      "text/plain": [
       "True"
      ]
     },
     "execution_count": 107,
     "metadata": {},
     "output_type": "execute_result"
    }
   ],
   "source": [
    "## Cheak elements inside list\n",
    "lst=[1,2,3,4]\n",
    "4 in lst"
   ]
  },
  {
   "cell_type": "code",
   "execution_count": 108,
   "id": "a80eb99b-1076-4eb0-909c-1ae73f5fe652",
   "metadata": {},
   "outputs": [
    {
     "data": {
      "text/plain": [
       "False"
      ]
     },
     "execution_count": 108,
     "metadata": {},
     "output_type": "execute_result"
    }
   ],
   "source": [
    "5 in lst"
   ]
  },
  {
   "cell_type": "code",
   "execution_count": 109,
   "id": "879528e4-bdb0-47a5-a105-5711e125a819",
   "metadata": {},
   "outputs": [],
   "source": [
    "lst1=[\"Zebra\",\"Tiger\",\"Monkey\",\"Lion\"]\n",
    "lst2=[5,6,2,9,5,8,6]"
   ]
  },
  {
   "cell_type": "code",
   "execution_count": 110,
   "id": "c8d90e05-2fd8-4bf0-8c47-e3d0165a3da0",
   "metadata": {},
   "outputs": [
    {
     "name": "stdout",
     "output_type": "stream",
     "text": [
      "Zebra\n"
     ]
    }
   ],
   "source": [
    "print(max(lst1))"
   ]
  },
  {
   "cell_type": "code",
   "execution_count": 111,
   "id": "6c13ff25-801d-4652-9d11-cfc10a619d9a",
   "metadata": {},
   "outputs": [
    {
     "data": {
      "text/plain": [
       "9"
      ]
     },
     "execution_count": 111,
     "metadata": {},
     "output_type": "execute_result"
    }
   ],
   "source": [
    "max(lst2)"
   ]
  },
  {
   "cell_type": "code",
   "execution_count": 112,
   "id": "b02aa00e-6744-4d6b-98e4-a25bfe1298c1",
   "metadata": {},
   "outputs": [
    {
     "data": {
      "text/plain": [
       "'Lion'"
      ]
     },
     "execution_count": 112,
     "metadata": {},
     "output_type": "execute_result"
    }
   ],
   "source": [
    "min(lst1)"
   ]
  },
  {
   "cell_type": "code",
   "execution_count": 113,
   "id": "df31ecb5-7084-4487-b6ce-c0ff7e2cb67f",
   "metadata": {},
   "outputs": [
    {
     "data": {
      "text/plain": [
       "2"
      ]
     },
     "execution_count": 113,
     "metadata": {},
     "output_type": "execute_result"
    }
   ],
   "source": [
    "min(lst2)"
   ]
  },
  {
   "cell_type": "code",
   "execution_count": 114,
   "id": "ea09604f-4f39-4e89-966f-cb79d257eb8b",
   "metadata": {},
   "outputs": [],
   "source": [
    "## Append"
   ]
  },
  {
   "cell_type": "code",
   "execution_count": 115,
   "id": "d8120c0d-2e58-4130-b555-4f99ebf937d0",
   "metadata": {},
   "outputs": [],
   "source": [
    "lst=[1,2,3,4,5,6]"
   ]
  },
  {
   "cell_type": "code",
   "execution_count": 116,
   "id": "0249f50e-ad7e-44bd-9b3d-3ceab9f72577",
   "metadata": {},
   "outputs": [
    {
     "data": {
      "text/plain": [
       "[1, 2, 3, 4, 5, 6]"
      ]
     },
     "execution_count": 116,
     "metadata": {},
     "output_type": "execute_result"
    }
   ],
   "source": [
    "lst"
   ]
  },
  {
   "cell_type": "code",
   "execution_count": 117,
   "id": "1ca9aed8-f057-4c22-93d3-bb8e8aa004e0",
   "metadata": {},
   "outputs": [],
   "source": [
    "lst.append(\"Pwskills\")"
   ]
  },
  {
   "cell_type": "code",
   "execution_count": 118,
   "id": "00fa093d-b4ea-4d81-8a1c-00728a06776d",
   "metadata": {},
   "outputs": [
    {
     "data": {
      "text/plain": [
       "[1, 2, 3, 4, 5, 6, 'Pwskills']"
      ]
     },
     "execution_count": 118,
     "metadata": {},
     "output_type": "execute_result"
    }
   ],
   "source": [
    "lst"
   ]
  },
  {
   "cell_type": "code",
   "execution_count": 120,
   "id": "25b155e6-e8fc-4eda-b7da-2c4d85ca3f69",
   "metadata": {},
   "outputs": [],
   "source": [
    "lst.append([\"Pwskills\",\"Science\",\"Masters\"])"
   ]
  },
  {
   "cell_type": "code",
   "execution_count": 122,
   "id": "0c38b8dd-35ff-4f6e-96f0-dab8b65fbd51",
   "metadata": {},
   "outputs": [
    {
     "data": {
      "text/plain": [
       "[1, 2, 3, 4, 5, 6, 'Pwskills', ['Pwskills', 'Science', 'Masters']]"
      ]
     },
     "execution_count": 122,
     "metadata": {},
     "output_type": "execute_result"
    }
   ],
   "source": [
    "lst"
   ]
  },
  {
   "cell_type": "code",
   "execution_count": 123,
   "id": "7c1d3724-a7cf-41e6-80eb-6df73c82b7b0",
   "metadata": {},
   "outputs": [],
   "source": [
    "lst1=[\"Zebra\",\"Tiger\",\"Monkey\",\"Lion\"]"
   ]
  },
  {
   "cell_type": "code",
   "execution_count": 124,
   "id": "cc45a614-326d-4a71-b42f-c97793bb7f2a",
   "metadata": {},
   "outputs": [
    {
     "data": {
      "text/plain": [
       "'Lion'"
      ]
     },
     "execution_count": 124,
     "metadata": {},
     "output_type": "execute_result"
    }
   ],
   "source": [
    "lst1.pop()"
   ]
  },
  {
   "cell_type": "code",
   "execution_count": 125,
   "id": "961a84e9-a9dc-4887-bace-8a850bddfe87",
   "metadata": {},
   "outputs": [
    {
     "data": {
      "text/plain": [
       "['Zebra', 'Tiger', 'Monkey']"
      ]
     },
     "execution_count": 125,
     "metadata": {},
     "output_type": "execute_result"
    }
   ],
   "source": [
    "lst1"
   ]
  },
  {
   "cell_type": "code",
   "execution_count": 126,
   "id": "90333b44-46ab-4455-96fb-d6fa3748fb2e",
   "metadata": {},
   "outputs": [
    {
     "data": {
      "text/plain": [
       "'Zebra'"
      ]
     },
     "execution_count": 126,
     "metadata": {},
     "output_type": "execute_result"
    }
   ],
   "source": [
    "lst1.pop(0)"
   ]
  },
  {
   "cell_type": "code",
   "execution_count": 127,
   "id": "7de46bbc-0aca-40e9-bfd3-ea4922e25aa7",
   "metadata": {},
   "outputs": [
    {
     "data": {
      "text/plain": [
       "['Tiger', 'Monkey']"
      ]
     },
     "execution_count": 127,
     "metadata": {},
     "output_type": "execute_result"
    }
   ],
   "source": [
    "lst1"
   ]
  },
  {
   "cell_type": "code",
   "execution_count": 130,
   "id": "8d7b9bf1-c465-4263-b54a-cb9f3657c9b0",
   "metadata": {},
   "outputs": [
    {
     "ename": "IndexError",
     "evalue": "list index out of range",
     "output_type": "error",
     "traceback": [
      "\u001b[0;31m---------------------------------------------------------------------------\u001b[0m",
      "\u001b[0;31mIndexError\u001b[0m                                Traceback (most recent call last)",
      "Cell \u001b[0;32mIn[130], line 1\u001b[0m\n\u001b[0;32m----> 1\u001b[0m \u001b[43mlst1\u001b[49m\u001b[43m[\u001b[49m\u001b[38;5;241;43m100\u001b[39;49m\u001b[43m]\u001b[49m\n",
      "\u001b[0;31mIndexError\u001b[0m: list index out of range"
     ]
    }
   ],
   "source": [
    "lst1[100]"
   ]
  },
  {
   "cell_type": "code",
   "execution_count": 131,
   "id": "51686c55-9610-4067-b499-5556b207194d",
   "metadata": {},
   "outputs": [],
   "source": [
    "## Sorting And Reversed Method in List"
   ]
  },
  {
   "cell_type": "code",
   "execution_count": 132,
   "id": "a84f9b1f-b42e-42f5-a288-2d2f3c87645c",
   "metadata": {},
   "outputs": [],
   "source": [
    "new_list=[\"q\",\"e\",'f','s','t',\"u\"]"
   ]
  },
  {
   "cell_type": "code",
   "execution_count": 133,
   "id": "49155e86-587c-4072-8e3e-6615bc1dcd0e",
   "metadata": {},
   "outputs": [
    {
     "data": {
      "text/plain": [
       "['u', 't', 's', 'f', 'e', 'q']"
      ]
     },
     "execution_count": 133,
     "metadata": {},
     "output_type": "execute_result"
    }
   ],
   "source": [
    "new_list[::-1]"
   ]
  },
  {
   "cell_type": "code",
   "execution_count": 134,
   "id": "45a9178d-bbf4-4136-a7d1-5c7b8e781996",
   "metadata": {},
   "outputs": [],
   "source": [
    "##Inplace\n",
    "new_list.reverse()"
   ]
  },
  {
   "cell_type": "code",
   "execution_count": 135,
   "id": "a42997d9-5489-40e9-a9b9-1d03816b8eb8",
   "metadata": {},
   "outputs": [
    {
     "data": {
      "text/plain": [
       "['u', 't', 's', 'f', 'e', 'q']"
      ]
     },
     "execution_count": 135,
     "metadata": {},
     "output_type": "execute_result"
    }
   ],
   "source": [
    "new_list"
   ]
  },
  {
   "cell_type": "code",
   "execution_count": 136,
   "id": "a1d0462d-f88a-46a2-a9b8-434a9be98f51",
   "metadata": {},
   "outputs": [],
   "source": [
    "new_list.sort()"
   ]
  },
  {
   "cell_type": "code",
   "execution_count": 137,
   "id": "3ef5113e-5752-4346-a896-3db92555c412",
   "metadata": {},
   "outputs": [
    {
     "data": {
      "text/plain": [
       "['e', 'f', 'q', 's', 't', 'u']"
      ]
     },
     "execution_count": 137,
     "metadata": {},
     "output_type": "execute_result"
    }
   ],
   "source": [
    "new_list"
   ]
  },
  {
   "cell_type": "code",
   "execution_count": 138,
   "id": "9129dc34-9277-432b-ab0e-107a75d1082e",
   "metadata": {},
   "outputs": [],
   "source": [
    "lst=[1,2,3,4,5,6]\n",
    "lst.append(10)"
   ]
  },
  {
   "cell_type": "code",
   "execution_count": 140,
   "id": "9294029d-1988-425e-9d68-cd3b86d86f60",
   "metadata": {},
   "outputs": [],
   "source": [
    "lst.append([\"PW\",\"Skills\"])"
   ]
  },
  {
   "cell_type": "code",
   "execution_count": 141,
   "id": "572583f6-e297-4f69-bf86-72d7bd1fd7c4",
   "metadata": {},
   "outputs": [],
   "source": [
    "lst.extend([\"PW\",\"Skills\"])"
   ]
  },
  {
   "cell_type": "code",
   "execution_count": 142,
   "id": "cb587d0f-5a1b-41d7-b0a9-0adab0920030",
   "metadata": {},
   "outputs": [
    {
     "data": {
      "text/plain": [
       "[1, 2, 3, 4, 5, 6, 10, ['PW', 'Skills'], 'PW', 'Skills']"
      ]
     },
     "execution_count": 142,
     "metadata": {},
     "output_type": "execute_result"
    }
   ],
   "source": [
    "lst"
   ]
  },
  {
   "cell_type": "markdown",
   "id": "a7c5ed39-aa4c-402f-bb7b-27fc9b9c122a",
   "metadata": {},
   "source": [
    "## Nasted List "
   ]
  },
  {
   "cell_type": "code",
   "execution_count": 144,
   "id": "a05d5ff3-7afd-42ad-a8b0-c3d1762f32fd",
   "metadata": {},
   "outputs": [],
   "source": [
    "lst_1=[1,2,3]\n",
    "lst_2=[4,5,6]\n",
    "lst_3=[7,8,9]\n",
    "#make alist of lists to form a matrix\n",
    "matrix=[lst_1,lst_2,lst_3]"
   ]
  },
  {
   "cell_type": "code",
   "execution_count": 145,
   "id": "0ec6af0d-007e-43a1-a09b-996b68afd7d9",
   "metadata": {},
   "outputs": [
    {
     "data": {
      "text/plain": [
       "[[1, 2, 3], [4, 5, 6], [7, 8, 9]]"
      ]
     },
     "execution_count": 145,
     "metadata": {},
     "output_type": "execute_result"
    }
   ],
   "source": [
    "matrix"
   ]
  },
  {
   "cell_type": "code",
   "execution_count": 146,
   "id": "6a1962e3-9f64-4dfe-b8af-b91cda7cc0e4",
   "metadata": {},
   "outputs": [
    {
     "data": {
      "text/plain": [
       "6"
      ]
     },
     "execution_count": 146,
     "metadata": {},
     "output_type": "execute_result"
    }
   ],
   "source": [
    "matrix[1][2]"
   ]
  },
  {
   "cell_type": "code",
   "execution_count": 147,
   "id": "c72f617f-ffa6-44ce-b4d7-6eba7184d431",
   "metadata": {},
   "outputs": [
    {
     "data": {
      "text/plain": [
       "[8, 9]"
      ]
     },
     "execution_count": 147,
     "metadata": {},
     "output_type": "execute_result"
    }
   ],
   "source": [
    "matrix[2][1:]"
   ]
  },
  {
   "cell_type": "code",
   "execution_count": 152,
   "id": "37aa0c3e-0714-4a21-8d7e-cbe4eee37607",
   "metadata": {},
   "outputs": [
    {
     "data": {
      "text/plain": [
       "[0, 1, 2, 3, 4, 5, 6, 7, 8, 9, 10, 11, 12, 13, 14, 15, 16, 17, 18, 19]"
      ]
     },
     "execution_count": 152,
     "metadata": {},
     "output_type": "execute_result"
    }
   ],
   "source": [
    "##List Comprehension\n",
    "[i for i in range(0,20)]"
   ]
  },
  {
   "cell_type": "code",
   "execution_count": 156,
   "id": "76691e8f-c28a-4e3a-a8dc-26440cc8210c",
   "metadata": {},
   "outputs": [
    {
     "data": {
      "text/plain": [
       "[0,\n",
       " ' ',\n",
       " 2,\n",
       " ' ',\n",
       " 4,\n",
       " ' ',\n",
       " 6,\n",
       " ' ',\n",
       " 8,\n",
       " ' ',\n",
       " 10,\n",
       " ' ',\n",
       " 12,\n",
       " ' ',\n",
       " 14,\n",
       " ' ',\n",
       " 16,\n",
       " ' ',\n",
       " 18,\n",
       " ' ']"
      ]
     },
     "execution_count": 156,
     "metadata": {},
     "output_type": "execute_result"
    }
   ],
   "source": [
    "##List Comprehension\n",
    "#Even NUmbers\n",
    "[i if i%2==0 else \" \" for i in range(20)]"
   ]
  },
  {
   "cell_type": "code",
   "execution_count": 159,
   "id": "b03835e6-01bb-4596-8ff6-556cad79e2e9",
   "metadata": {},
   "outputs": [
    {
     "data": {
      "text/plain": [
       "[1, 4, 9, 16, 25, 36, 49, 64, 81, 100]"
      ]
     },
     "execution_count": 159,
     "metadata": {},
     "output_type": "execute_result"
    }
   ],
   "source": [
    "lst=[1,2,3,4,5,6,7,8,9,10]\n",
    "[num**2 for num in lst]   # Number square"
   ]
  },
  {
   "cell_type": "code",
   "execution_count": 163,
   "id": "8d9a11e0-09a8-48db-a39f-8e3741e1bf8d",
   "metadata": {},
   "outputs": [
    {
     "data": {
      "text/plain": [
       "[2, 3, 4, 6, 7, 9]"
      ]
     },
     "execution_count": 163,
     "metadata": {},
     "output_type": "execute_result"
    }
   ],
   "source": [
    "lst=[-1,2,3,4,-5,6,7,-8,9,-10]\n",
    "[num for num in lst if num > 0]"
   ]
  },
  {
   "cell_type": "code",
   "execution_count": 165,
   "id": "3b872dc9-1d26-47ad-a42b-a2973d7b3bcb",
   "metadata": {},
   "outputs": [],
   "source": [
    "lists=[[1, 2, 3], [4, 5, 6], [7, 8, 9]]"
   ]
  },
  {
   "cell_type": "code",
   "execution_count": 9,
   "id": "e83a7571-b7be-49f4-b29c-ad4d9520a19e",
   "metadata": {},
   "outputs": [
    {
     "data": {
      "text/plain": [
       "[1, 2, 3, 4]"
      ]
     },
     "execution_count": 9,
     "metadata": {},
     "output_type": "execute_result"
    }
   ],
   "source": [
    "# Example 2: Create a list of only the positive numbers from a given list\n",
    "numbers = [-2, -1, 0, 1, 2, 3, 4]\n",
    "[num for num in numbers if num > 0]"
   ]
  },
  {
   "cell_type": "code",
   "execution_count": 13,
   "id": "5bf4d53d-1be7-481c-adb0-099727aa6235",
   "metadata": {},
   "outputs": [
    {
     "data": {
      "text/plain": [
       "['a', 'b', 'c', 'd']"
      ]
     },
     "execution_count": 13,
     "metadata": {},
     "output_type": "execute_result"
    }
   ],
   "source": [
    "# Example 3: Create a list of only the first letters of words in a list\n",
    "words = ['apple', 'banana', 'cherry', 'date']\n",
    "[word[0] for word in words]"
   ]
  },
  {
   "cell_type": "code",
   "execution_count": 19,
   "id": "27a071f5-b419-4dab-9c39-4e62261aebc7",
   "metadata": {},
   "outputs": [
    {
     "data": {
      "text/plain": [
       "[32.0, 50.0, 68.0, 86.0, 104.0, 122.0]"
      ]
     },
     "execution_count": 19,
     "metadata": {},
     "output_type": "execute_result"
    }
   ],
   "source": [
    "# Example 4: Convert a list of temperatures from Celsius to Fahrenheit uing list comprehesnion\n",
    "\n",
    "celsius_temperatures = [0, 10, 20, 30, 40, 50]\n",
    "[(9/5)*temp + 32 for temp in celsius_temperatures]"
   ]
  },
  {
   "cell_type": "code",
   "execution_count": 20,
   "id": "d5870e3d-40c0-40ba-9653-7b61c0a4980b",
   "metadata": {},
   "outputs": [],
   "source": [
    "## Assignment \n",
    "## Using both code and list comprehesnion\n",
    "# Example 2: Create a list of only the prime numbers from a given list\n",
    "numbers = [1, 2, 3, 4, 5, 6, 7, 8, 9, 10]"
   ]
  },
  {
   "cell_type": "code",
   "execution_count": 24,
   "id": "ec8e0a72-ee7d-4ab5-b7e8-50ea76053ce3",
   "metadata": {},
   "outputs": [
    {
     "ename": "SyntaxError",
     "evalue": "invalid syntax (576504424.py, line 4)",
     "output_type": "error",
     "traceback": [
      "\u001b[0;36m  Cell \u001b[0;32mIn[24], line 4\u001b[0;36m\u001b[0m\n\u001b[0;31m    num%i==1 for num in numberes:\u001b[0m\n\u001b[0m             ^\u001b[0m\n\u001b[0;31mSyntaxError\u001b[0m\u001b[0;31m:\u001b[0m invalid syntax\n"
     ]
    }
   ],
   "source": [
    "i=1\n",
    "for i in numbers:\n",
    "    i=i+1\n",
    "num%i==1 for num in numberes:\n",
    "    print(\"num\")"
   ]
  },
  {
   "cell_type": "code",
   "execution_count": null,
   "id": "759ca84f-e765-48ae-8669-5f7486ec85fa",
   "metadata": {},
   "outputs": [],
   "source": []
  }
 ],
 "metadata": {
  "kernelspec": {
   "display_name": "Python 3 (ipykernel)",
   "language": "python",
   "name": "python3"
  },
  "language_info": {
   "codemirror_mode": {
    "name": "ipython",
    "version": 3
   },
   "file_extension": ".py",
   "mimetype": "text/x-python",
   "name": "python",
   "nbconvert_exporter": "python",
   "pygments_lexer": "ipython3",
   "version": "3.10.8"
  }
 },
 "nbformat": 4,
 "nbformat_minor": 5
}
