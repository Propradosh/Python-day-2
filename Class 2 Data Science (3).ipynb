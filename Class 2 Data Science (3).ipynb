{
 "cells": [
  {
   "cell_type": "code",
   "execution_count": 1,
   "id": "546818d0-ad50-4dae-8615-762a95afa916",
   "metadata": {},
   "outputs": [],
   "source": [
    "a=10"
   ]
  },
  {
   "cell_type": "code",
   "execution_count": 2,
   "id": "2d5ef6dd-df7d-4030-ba82-468f95295076",
   "metadata": {},
   "outputs": [],
   "source": [
    "a=\"c\""
   ]
  },
  {
   "cell_type": "code",
   "execution_count": 3,
   "id": "8cdf635f-6b4a-4ad9-a968-d0877c7d9d72",
   "metadata": {},
   "outputs": [
    {
     "data": {
      "text/plain": [
       "str"
      ]
     },
     "execution_count": 3,
     "metadata": {},
     "output_type": "execute_result"
    }
   ],
   "source": [
    "type(a)"
   ]
  },
  {
   "cell_type": "code",
   "execution_count": 5,
   "id": "7758c4c4-543d-420f-b869-cd48ed40fe68",
   "metadata": {},
   "outputs": [
    {
     "data": {
      "text/plain": [
       "123"
      ]
     },
     "execution_count": 5,
     "metadata": {},
     "output_type": "execute_result"
    }
   ],
   "source": [
    "int(123)"
   ]
  },
  {
   "cell_type": "code",
   "execution_count": 8,
   "id": "b8d17d90-7fb9-4d7a-9265-d644aed19cc5",
   "metadata": {},
   "outputs": [
    {
     "name": "stdout",
     "output_type": "stream",
     "text": [
      "Hello World\n"
     ]
    }
   ],
   "source": [
    "print(\"Hello World\")"
   ]
  },
  {
   "cell_type": "code",
   "execution_count": 9,
   "id": "cf7a8637-2f3b-4d26-b5a2-64ceb4c6cb35",
   "metadata": {},
   "outputs": [
    {
     "name": "stdout",
     "output_type": "stream",
     "text": [
      "123\n"
     ]
    }
   ],
   "source": [
    "print(123)"
   ]
  },
  {
   "cell_type": "code",
   "execution_count": 12,
   "id": "beb4af47-8dea-4e55-abb2-8eacbc5e86ff",
   "metadata": {},
   "outputs": [
    {
     "name": "stdout",
     "output_type": "stream",
     "text": [
      "My age is: 26\n"
     ]
    }
   ],
   "source": [
    "age=26\n",
    "print(\"My age is:\",age)"
   ]
  },
  {
   "cell_type": "code",
   "execution_count": 22,
   "id": "dbb63bff-dac4-4205-b032-5b0f79088916",
   "metadata": {},
   "outputs": [
    {
     "name": "stdout",
     "output_type": "stream",
     "text": [
      "My age is 56\n"
     ]
    }
   ],
   "source": [
    "age=56\n",
    "print(f\"My age is {age}\")"
   ]
  },
  {
   "cell_type": "code",
   "execution_count": 23,
   "id": "42e81753-e830-4ec8-93e6-286e320dc6d2",
   "metadata": {},
   "outputs": [
    {
     "name": "stdout",
     "output_type": "stream",
     "text": [
      "My age is 56\n"
     ]
    }
   ],
   "source": [
    "age=56\n",
    "print(\"My age is {}\".format(age))"
   ]
  },
  {
   "cell_type": "code",
   "execution_count": 24,
   "id": "530e02af-f2d8-4a9f-aa91-b3c7d7e8b535",
   "metadata": {},
   "outputs": [
    {
     "name": "stdout",
     "output_type": "stream",
     "text": [
      "My age is: 90\n"
     ]
    }
   ],
   "source": [
    "# f string( without write ,)\n",
    "age=90\n",
    "print(f\"My age is: {age}\")"
   ]
  },
  {
   "cell_type": "code",
   "execution_count": 16,
   "id": "684752e0-290f-4720-a6c4-431dfe6c7b9a",
   "metadata": {},
   "outputs": [
    {
     "name": "stdout",
     "output_type": "stream",
     "text": [
      "My name is Pradosh and age is 32\n"
     ]
    }
   ],
   "source": [
    "## format()\n",
    "name=\"Pradosh\"\n",
    "age=32\n",
    "print(\"My name is {} and age is {}\".format(name,age))"
   ]
  },
  {
   "cell_type": "code",
   "execution_count": 25,
   "id": "08c04668-4328-45ee-93e1-a8bd2b4ab061",
   "metadata": {},
   "outputs": [
    {
     "name": "stdout",
     "output_type": "stream",
     "text": [
      "My name is Pradosh and age is 32\n"
     ]
    }
   ],
   "source": [
    "name=\"Pradosh\"\n",
    "age=32\n",
    "print(f\"My name is {name} and age is {age}\")"
   ]
  },
  {
   "cell_type": "code",
   "execution_count": 18,
   "id": "f7a40d33-ad03-487c-9e36-cb51b79f1085",
   "metadata": {},
   "outputs": [
    {
     "name": "stdout",
     "output_type": "stream",
     "text": [
      "My name is Pradosh and age is 32\n"
     ]
    }
   ],
   "source": [
    "#Placeholder\n",
    "print(\"My name is {firstname} and age is {firstage}\".format( firstname=name,firstage=age))"
   ]
  },
  {
   "cell_type": "code",
   "execution_count": 1,
   "id": "9636600b-55c1-4e24-ad69-732aced1accc",
   "metadata": {},
   "outputs": [
    {
     "name": "stdout",
     "output_type": "stream",
     "text": [
      "My age is: 32 i have completed: my degree BTECH with the name of Pradosh\n"
     ]
    }
   ],
   "source": [
    "name=\"Pradosh\"\n",
    "age=32\n",
    "Degree=\"BTECH\"\n",
    "print(f\"My age is: {age} i have completed: my degree {Degree} with the name of {name}\")"
   ]
  },
  {
   "cell_type": "code",
   "execution_count": 4,
   "id": "236cd926-facd-4d78-9e58-21046b845044",
   "metadata": {},
   "outputs": [
    {
     "name": "stdout",
     "output_type": "stream",
     "text": [
      "My age is 32 i have completed my drgree BTECH with the name of Pradosh. \n"
     ]
    }
   ],
   "source": [
    "name=\"Pradosh\"\n",
    "age=32\n",
    "Degree=\"BTECH\"\n",
    "print(\"My age is {} i have completed my drgree {} with the name of {}. \".format(age,Degree,name))"
   ]
  },
  {
   "cell_type": "code",
   "execution_count": 2,
   "id": "6b8f9ae5-1ec4-416e-9c4a-1b47b4da142f",
   "metadata": {},
   "outputs": [
    {
     "name": "stdout",
     "output_type": "stream",
     "text": [
      "My age is 32 i have completed : my degree in B.TECH with the name of Pradosh\n"
     ]
    }
   ],
   "source": [
    "name=\"Pradosh\"\n",
    "age=32\n",
    "Degree=\"B.TECH\"\n",
    "print(\"My age is {fage} i have completed : my degree in {fDegree} with the name of {fname}\".format( fname=name,fDegree=Degree,fage=age))"
   ]
  },
  {
   "cell_type": "markdown",
   "id": "7ee8d1c5-cdbf-4929-9b7e-2ecceda4e85b",
   "metadata": {},
   "source": [
    "\n",
    "## Dission making Statemate"
   ]
  },
  {
   "cell_type": "code",
   "execution_count": 6,
   "id": "9c91b760-76bc-4d13-8bc9-1e67fd33117d",
   "metadata": {},
   "outputs": [
    {
     "name": "stdin",
     "output_type": "stream",
     "text": [
      "Put your Age 18\n"
     ]
    },
    {
     "name": "stdout",
     "output_type": "stream",
     "text": [
      "You are elegible to vote\n"
     ]
    }
   ],
   "source": [
    "## If Statemate(== or >= or <=)\n",
    "age=int(input(\"Put your Age\"))\n",
    "if age>=18:\n",
    "    print(\"You are elegible to vote\")\n",
    "else:\n",
    "    print(\"You are not-elegible to Vote\")"
   ]
  },
  {
   "cell_type": "code",
   "execution_count": 43,
   "id": "f7c300ca-6235-4c0e-9247-95b5138900a2",
   "metadata": {},
   "outputs": [
    {
     "data": {
      "text/plain": [
       "True"
      ]
     },
     "execution_count": 43,
     "metadata": {},
     "output_type": "execute_result"
    }
   ],
   "source": [
    "20>19"
   ]
  },
  {
   "cell_type": "code",
   "execution_count": 7,
   "id": "134fd349-2d32-4868-aed4-165a4fbc4345",
   "metadata": {},
   "outputs": [
    {
     "name": "stdin",
     "output_type": "stream",
     "text": [
      " pradosh\n"
     ]
    },
    {
     "data": {
      "text/plain": [
       "'pradosh'"
      ]
     },
     "execution_count": 7,
     "metadata": {},
     "output_type": "execute_result"
    }
   ],
   "source": [
    "input()"
   ]
  },
  {
   "cell_type": "code",
   "execution_count": 28,
   "id": "dcf44286-ffcc-473f-afe4-dd1d278da1dd",
   "metadata": {},
   "outputs": [
    {
     "name": "stdin",
     "output_type": "stream",
     "text": [
      "Enter The Name Pradosh\n"
     ]
    }
   ],
   "source": [
    "name=input(\"Enter The Name\")"
   ]
  },
  {
   "cell_type": "code",
   "execution_count": 29,
   "id": "5c017796-e197-490f-9783-4e200aca9b91",
   "metadata": {},
   "outputs": [
    {
     "data": {
      "text/plain": [
       "'Pradosh'"
      ]
     },
     "execution_count": 29,
     "metadata": {},
     "output_type": "execute_result"
    }
   ],
   "source": [
    "name"
   ]
  },
  {
   "cell_type": "code",
   "execution_count": 30,
   "id": "8bcc5f7a-a659-4567-b0e7-957a06db518c",
   "metadata": {},
   "outputs": [
    {
     "name": "stdin",
     "output_type": "stream",
     "text": [
      "Enter Your Age 26\n"
     ]
    }
   ],
   "source": [
    "name=int(input(\"Enter Your Age\"))"
   ]
  },
  {
   "cell_type": "code",
   "execution_count": 31,
   "id": "b7f49f0e-ff2f-4eac-b755-dda8a3380db1",
   "metadata": {},
   "outputs": [],
   "source": [
    "## TAsk\n",
    "## TAke a input age \n",
    "### cheak wheather age >=18 and <=45\n",
    "##display you are young blood"
   ]
  },
  {
   "cell_type": "code",
   "execution_count": 47,
   "id": "54e4e4be-a0c1-4bce-8667-79a29cb2f6ea",
   "metadata": {},
   "outputs": [
    {
     "name": "stdin",
     "output_type": "stream",
     "text": [
      "Enter yo:ur age 60\n"
     ]
    },
    {
     "name": "stdout",
     "output_type": "stream",
     "text": [
      "You are not-Young Yet!!\n"
     ]
    }
   ],
   "source": [
    "age=int(input('Enter yo:ur age'))\n",
    "if age>=18 and age <=45:\n",
    "    print('You are Young :)')\n",
    "else:\n",
    "    print(\"You are not-Young Yet!!\")\n"
   ]
  },
  {
   "cell_type": "code",
   "execution_count": 49,
   "id": "f37db3d5-a400-4a18-9450-dd05bed8ceb3",
   "metadata": {},
   "outputs": [
    {
     "name": "stdin",
     "output_type": "stream",
     "text": [
      "Enter yo:ur age 25\n"
     ]
    },
    {
     "name": "stdout",
     "output_type": "stream",
     "text": [
      "You are Young\n"
     ]
    }
   ],
   "source": [
    "## if else statemate\n",
    "age=int(input('Enter yo:ur age'))\n",
    "if age>=18 and age <=45:\n",
    "    print('You are Young')\n",
    "else:\n",
    "    print(\"Thankyou, we will let you know\")\n"
   ]
  },
  {
   "cell_type": "code",
   "execution_count": null,
   "id": "41b43ff9-2aad-46b4-92b5-f90fd54e6782",
   "metadata": {},
   "outputs": [],
   "source": [
    "## mall\n",
    "## product >1000,20% off\n",
    "##product <=1000 rs 30% off"
   ]
  },
  {
   "cell_type": "code",
   "execution_count": 50,
   "id": "515e0b52-fa7e-4272-be2c-d60633aa0e00",
   "metadata": {},
   "outputs": [
    {
     "name": "stdin",
     "output_type": "stream",
     "text": [
      "Enter Product Price: 1100\n"
     ]
    },
    {
     "name": "stdout",
     "output_type": "stream",
     "text": [
      "The price of product is :880.0\n"
     ]
    }
   ],
   "source": [
    "product=int(input(\"Enter Product Price:\"))\n",
    "if product>1000:\n",
    "    print ('The price of product is :{}'.format(product*0.8))\n",
    "else:\n",
    "    print ('The price of product is :{}'.format(product*0.7))\n",
    " "
   ]
  },
  {
   "cell_type": "code",
   "execution_count": 52,
   "id": "c1ee8017-02e7-4df5-95e7-799b425a807f",
   "metadata": {},
   "outputs": [
    {
     "name": "stdin",
     "output_type": "stream",
     "text": [
      "Enter Product Price: 1100\n"
     ]
    },
    {
     "name": "stdout",
     "output_type": "stream",
     "text": [
      "The price of product is :880.0\n"
     ]
    }
   ],
   "source": [
    "product=int(input(\"Enter Product Price:\"))\n",
    "if product>1000:\n",
    "    print (f\"The price of product is :{product*0.8}\")\n",
    "else:\n",
    "    print (f\"The price of product is :{product*0.7}\")"
   ]
  },
  {
   "cell_type": "code",
   "execution_count": 8,
   "id": "98971216-c816-4e32-a832-6dad077f7d3e",
   "metadata": {},
   "outputs": [
    {
     "name": "stdin",
     "output_type": "stream",
     "text": [
      "Enter Product Price: 500\n"
     ]
    },
    {
     "ename": "KeyError",
     "evalue": "'ffproduct'",
     "output_type": "error",
     "traceback": [
      "\u001b[0;31m---------------------------------------------------------------------------\u001b[0m",
      "\u001b[0;31mKeyError\u001b[0m                                  Traceback (most recent call last)",
      "Cell \u001b[0;32mIn[8], line 5\u001b[0m\n\u001b[1;32m      3\u001b[0m     \u001b[38;5;28mprint\u001b[39m (\u001b[38;5;124m\"\u001b[39m\u001b[38;5;124mThe price of product is :\u001b[39m\u001b[38;5;132;01m{fproduct}\u001b[39;00m\u001b[38;5;124m\"\u001b[39m\u001b[38;5;241m.\u001b[39mformat(fprofuct\u001b[38;5;241m=\u001b[39m product\u001b[38;5;241m*\u001b[39m\u001b[38;5;241m0.8\u001b[39m))\n\u001b[1;32m      4\u001b[0m \u001b[38;5;28;01melse\u001b[39;00m:\n\u001b[0;32m----> 5\u001b[0m     \u001b[38;5;28mprint\u001b[39m (\u001b[38;5;124;43m\"\u001b[39;49m\u001b[38;5;124;43mThe price of product is :\u001b[39;49m\u001b[38;5;132;43;01m{ffproduct}\u001b[39;49;00m\u001b[38;5;124;43m\"\u001b[39;49m\u001b[38;5;241;43m.\u001b[39;49m\u001b[43mformat\u001b[49m\u001b[43m(\u001b[49m\u001b[43mffprofuct\u001b[49m\u001b[38;5;241;43m=\u001b[39;49m\u001b[43m \u001b[49m\u001b[43mproduct\u001b[49m\u001b[38;5;241;43m*\u001b[39;49m\u001b[38;5;241;43m0.7\u001b[39;49m\u001b[43m)\u001b[49m)\n",
      "\u001b[0;31mKeyError\u001b[0m: 'ffproduct'"
     ]
    }
   ],
   "source": [
    "product=int(input(\"Enter Product Price:\"))\n",
    "if product>1000:\n",
    "    print (\"The price of product is :{fproduct}\".format(fprofuct= product*0.8))\n",
    "else:\n",
    "    print (\"The price of product is :{ffproduct}\".format(ffprofuct= product*0.7))"
   ]
  },
  {
   "cell_type": "code",
   "execution_count": null,
   "id": "3894396a-b037-49af-85fb-8d2c81bcc003",
   "metadata": {},
   "outputs": [],
   "source": [
    "## mall\n",
    "## product >=3000,20% off\n",
    "##product <=1000 rs 30% off"
   ]
  },
  {
   "cell_type": "code",
   "execution_count": 19,
   "id": "695ce799-ff25-4645-824a-8c0255a768c6",
   "metadata": {},
   "outputs": [
    {
     "name": "stdin",
     "output_type": "stream",
     "text": [
      "Enter Product Price: 2999\n"
     ]
    },
    {
     "name": "stdout",
     "output_type": "stream",
     "text": [
      "Congrats,You won a Free Gift\n"
     ]
    }
   ],
   "source": [
    "## Special Product price of 2999 in efif slove\n",
    "product=int(input(\"Enter Product Price:\"))\n",
    "if product>=3000:\n",
    "    print ('The price of product price: {}'.format(product*0.8))\n",
    "elif product>=2000 and product <2999:\n",
    "    print ('The price of product price: {}'.format(product*0.7))\n",
    "elif product==2999:\n",
    "    print(\"Congrats,You won a Free Gift\")\n",
    "elif product>=1000 and product <2000:\n",
    "    print ('The price of product price: {}'.format(product*0.6))\n",
    "else:\n",
    "    print ('Lets drink Tea')\n",
    "    print (\"I will be there\")\n"
   ]
  },
  {
   "cell_type": "code",
   "execution_count": 28,
   "id": "7927255e-9533-4a4f-884c-18d12a6dc1e4",
   "metadata": {},
   "outputs": [
    {
     "name": "stdin",
     "output_type": "stream",
     "text": [
      "Enter Product Price: 10000\n"
     ]
    },
    {
     "name": "stdout",
     "output_type": "stream",
     "text": [
      "Discounted product price: 8000.0\n"
     ]
    }
   ],
   "source": [
    "## Special Product price of 2999 in (Nestedif) slove\n",
    "product=int(input(\"Enter Product Price:\"))\n",
    "if product==4000:\n",
    "        print(\"Additional Trip to Goa\")\n",
    "if product==2999:\n",
    "        print(\"Congrats,You won a Free Gift\")\n",
    "if product>3000:\n",
    "    print ('Discounted product price: {}'.format(product*0.8))\n",
    "elif product>=2000 and product <3000:\n",
    "    print ('Discounted product price: {}'.format(product*0.7))\n",
    "elif product>=100 and product <2000:\n",
    "    print ('Discounted product price: {}'.format(product*0.6))\n",
    "else:\n",
    "    print ('Lets drink Tea')\n",
    "    print (\"I will be there\")"
   ]
  },
  {
   "cell_type": "code",
   "execution_count": 35,
   "id": "9ad9f005-5d13-4e54-a2a5-60680a399146",
   "metadata": {},
   "outputs": [
    {
     "name": "stdin",
     "output_type": "stream",
     "text": [
      "Enter the number 5\n"
     ]
    },
    {
     "name": "stdout",
     "output_type": "stream",
     "text": [
      "Discounted price is 4.0\n"
     ]
    }
   ],
   "source": [
    "## Single Statement Suites (if else exucution)\n",
    "val=int(input('Enter the number'))\n",
    "if(val<=999):print(f\"Discounted price is {val*0.8}\")\n",
    "else:print(f\"Procuct price is {val*1}\")"
   ]
  },
  {
   "cell_type": "markdown",
   "id": "b8597ab7-3a64-40a3-8bc0-829bc14f69c0",
   "metadata": {},
   "source": [
    "# Loops statement\n",
    " 1. While loop\n",
    " 2. For loop\n",
    " 3. Nested loop\n",
    " 4. Loop Control(break,continue,pass)"
   ]
  },
  {
   "cell_type": "code",
   "execution_count": 52,
   "id": "92c437ed-ceda-418c-ac55-0b6bd9c1d97a",
   "metadata": {},
   "outputs": [
    {
     "name": "stdout",
     "output_type": "stream",
     "text": [
      "31\n",
      "32\n",
      "33\n",
      "34\n",
      "35\n",
      "36\n",
      "37\n",
      "38\n",
      "39\n",
      "40\n",
      "41\n",
      "42\n",
      "43\n",
      "44\n",
      "45\n",
      "46\n",
      "47\n",
      "48\n",
      "49\n",
      "50\n",
      "51\n",
      "52\n",
      "53\n",
      "54\n",
      "55\n",
      "56\n",
      "57\n",
      "58\n",
      "59\n",
      "60\n",
      "its time to retire\n"
     ]
    }
   ],
   "source": [
    "#while loop-else loop\n",
    "joining_age=30\n",
    "while joining_age<60:\n",
    "    joining_age= joining_age+1\n",
    "    print(joining_age)\n",
    "else:\n",
    "    print('its time to retire')"
   ]
  },
  {
   "cell_type": "code",
   "execution_count": 59,
   "id": "159bfd67-dfb5-4bcf-a503-73b4e9a5a668",
   "metadata": {},
   "outputs": [
    {
     "name": "stdout",
     "output_type": "stream",
     "text": [
      "1000\n",
      "900\n",
      "800\n",
      "700\n",
      "600\n",
      "500\n",
      "400\n",
      "300\n",
      "200\n",
      "100\n",
      "Put more money bank people\n"
     ]
    }
   ],
   "source": [
    "total_amount=1000\n",
    "while total_amount!= 0:\n",
    "    print(total_amount)\n",
    "    total_amount= total_amount-100\n",
    "else:\n",
    "    print('Put more money bank people')"
   ]
  },
  {
   "cell_type": "markdown",
   "id": "4e341363-ef55-466c-8186-448006c17150",
   "metadata": {},
   "source": [
    "# For Loop"
   ]
  },
  {
   "cell_type": "code",
   "execution_count": 67,
   "id": "afbb0bea-e7f3-4275-bbd0-5dab024f4905",
   "metadata": {},
   "outputs": [
    {
     "data": {
      "text/plain": [
       "list"
      ]
     },
     "execution_count": 67,
     "metadata": {},
     "output_type": "execute_result"
    }
   ],
   "source": [
    "## (this is not 1 it is L)\n",
    "lst=[\"Pradosh\",1,2,3,4,\"Apple\",\"Master\"]\n",
    "type(lst)"
   ]
  },
  {
   "cell_type": "code",
   "execution_count": 69,
   "id": "28febe9b-1e95-40de-88bf-fda73739573f",
   "metadata": {},
   "outputs": [
    {
     "data": {
      "text/plain": [
       "'Pradosh'"
      ]
     },
     "execution_count": 69,
     "metadata": {},
     "output_type": "execute_result"
    }
   ],
   "source": [
    "lst[0]"
   ]
  },
  {
   "cell_type": "code",
   "execution_count": 5,
   "id": "f28e23df-7443-4bc4-ae58-e0763d1ed984",
   "metadata": {},
   "outputs": [
    {
     "name": "stdout",
     "output_type": "stream",
     "text": [
      "Pradosh\n",
      "1\n",
      "2\n",
      "3\n",
      "4\n",
      "Apple\n",
      "Master\n"
     ]
    }
   ],
   "source": [
    "#For Loop\n",
    "lst=[\"Pradosh\",1,2,3,4,\"Apple\",\"Master\"]\n",
    "for x in lst:\n",
    "    print(x)"
   ]
  },
  {
   "cell_type": "code",
   "execution_count": 6,
   "id": "a798e448-1e06-4767-be2d-740eb25e831b",
   "metadata": {},
   "outputs": [
    {
     "name": "stdout",
     "output_type": "stream",
     "text": [
      "Apple\n",
      "Banana\n",
      "Mango\n",
      "Papaya\n"
     ]
    }
   ],
   "source": [
    "fruits_list = [\"Apple\",\"Banana\",\"Mango\",\"Papaya\"]\n",
    "for a in fruits_list:\n",
    "    print(a)"
   ]
  },
  {
   "cell_type": "code",
   "execution_count": 8,
   "id": "c1be89b4-0eaa-4a3b-9dbd-9429d54766f7",
   "metadata": {},
   "outputs": [
    {
     "name": "stdout",
     "output_type": "stream",
     "text": [
      "Apple Banana Mango Papaya "
     ]
    }
   ],
   "source": [
    "fruits_list = [\"Apple\",\"Banana\",\"Mango\",\"Papaya\"]\n",
    "for a in fruits_list:\n",
    "    print(a,end=' ')"
   ]
  },
  {
   "cell_type": "code",
   "execution_count": 13,
   "id": "9b86ae24-f87a-49cd-9c6b-1518425af4e4",
   "metadata": {},
   "outputs": [
    {
     "name": "stdout",
     "output_type": "stream",
     "text": [
      "Apple\n",
      "Banana\n",
      "Mango\n",
      "This is Mango\n"
     ]
    }
   ],
   "source": [
    "#Using Break\n",
    "fruits_list = [\"Apple\",\"Banana\",\"Mango\",\"Papaya\"]\n",
    "for a in fruits_list:\n",
    "    print(a)\n",
    "    if a==\"Mango\":\n",
    "        print(\"This is Mango\")\n",
    "        break"
   ]
  },
  {
   "cell_type": "code",
   "execution_count": 46,
   "id": "37e0d0be-7bc6-487b-b5a5-de7c913fd0c2",
   "metadata": {},
   "outputs": [
    {
     "name": "stdout",
     "output_type": "stream",
     "text": [
      "m\n",
      "a\n",
      "n\n",
      "g\n",
      "o\n"
     ]
    }
   ],
   "source": [
    "fruit='mango'\n",
    "for a in fruit:\n",
    "    print(a)"
   ]
  },
  {
   "cell_type": "code",
   "execution_count": 45,
   "id": "04cce843-cf4b-42a9-b37d-b180361f8f54",
   "metadata": {},
   "outputs": [
    {
     "name": "stdout",
     "output_type": "stream",
     "text": [
      "mango"
     ]
    }
   ],
   "source": [
    "fruit='mango'\n",
    "for a in fruit:\n",
    "    print(a,end='')"
   ]
  },
  {
   "cell_type": "code",
   "execution_count": null,
   "id": "648728b1-4a58-47a3-be20-3a1541cc4590",
   "metadata": {},
   "outputs": [],
   "source": [
    "## RANGE"
   ]
  },
  {
   "cell_type": "code",
   "execution_count": 31,
   "id": "f56b7692-9046-4652-8343-33857be83624",
   "metadata": {},
   "outputs": [
    {
     "data": {
      "text/plain": [
       "range(1, 6)"
      ]
     },
     "execution_count": 31,
     "metadata": {},
     "output_type": "execute_result"
    }
   ],
   "source": [
    "range(1,6)"
   ]
  },
  {
   "cell_type": "code",
   "execution_count": 37,
   "id": "88ed4bbc-c1e3-4280-bc02-010b8eda9c5b",
   "metadata": {},
   "outputs": [
    {
     "name": "stdout",
     "output_type": "stream",
     "text": [
      "1\n",
      "2\n",
      "3\n",
      "4\n",
      "5\n",
      "6\n",
      "7\n",
      "8\n",
      "9\n"
     ]
    }
   ],
   "source": [
    "for a in range(1,10):\n",
    "    print(a)\n"
   ]
  },
  {
   "cell_type": "code",
   "execution_count": 39,
   "id": "43c7154f-fed9-40f2-b6a1-45ba51dac605",
   "metadata": {},
   "outputs": [
    {
     "name": "stdout",
     "output_type": "stream",
     "text": [
      "1\n",
      "3\n",
      "5\n",
      "7\n",
      "9\n"
     ]
    }
   ],
   "source": [
    "for a in range(1,10,2):\n",
    "    print(a)"
   ]
  },
  {
   "cell_type": "code",
   "execution_count": 41,
   "id": "d38a5f76-cfa6-4050-9af9-61c97e58d407",
   "metadata": {},
   "outputs": [
    {
     "name": "stdout",
     "output_type": "stream",
     "text": [
      "****************************"
     ]
    }
   ],
   "source": [
    "### Nested Loops\n",
    "n=7\n",
    "\n",
    "for i in range(0,n):\n",
    "    for j in range(0,i+1):\n",
    "        print(\"*\",end=\"\")"
   ]
  },
  {
   "cell_type": "code",
   "execution_count": 45,
   "id": "6f713090-f0e6-4cc4-aae5-93fab52752f6",
   "metadata": {},
   "outputs": [
    {
     "name": "stdout",
     "output_type": "stream",
     "text": [
      "*\n",
      "*\n",
      "*\n",
      "*\n",
      "*\n",
      "*\n",
      "*\n",
      "*\n",
      "*\n",
      "*\n",
      "*\n",
      "*\n",
      "*\n",
      "*\n",
      "*\n",
      "*\n",
      "*\n",
      "*\n",
      "*\n",
      "*\n",
      "*\n",
      "*\n",
      "*\n",
      "*\n",
      "*\n",
      "*\n",
      "*\n",
      "*\n"
     ]
    }
   ],
   "source": [
    "n=7\n",
    "\n",
    "for i in range(0,n):\n",
    "    for j in range(0,i+1):\n",
    "        print(\"*\",end=\"\\n\")"
   ]
  },
  {
   "cell_type": "code",
   "execution_count": 48,
   "id": "438d60fc-4060-4433-9230-11072e4192dc",
   "metadata": {},
   "outputs": [
    {
     "name": "stdout",
     "output_type": "stream",
     "text": [
      "*\n",
      "**\n",
      "***\n",
      "****\n",
      "*****\n",
      "******\n",
      "*******\n",
      "********\n",
      "*********\n",
      "**********\n",
      "***********\n",
      "************\n",
      "*************\n",
      "**************\n",
      "***************\n"
     ]
    }
   ],
   "source": [
    "n=15\n",
    "\n",
    "for i in range(0,n):\n",
    "    for j in range(0,i+1):\n",
    "        print(\"*\",end=\"\")\n",
    "    print(\"\\r\")"
   ]
  },
  {
   "cell_type": "code",
   "execution_count": 7,
   "id": "e4c45507-bc63-4cdd-80d5-5feca4ac7c5a",
   "metadata": {},
   "outputs": [
    {
     "name": "stdout",
     "output_type": "stream",
     "text": [
      "       * \n",
      "      * * \n",
      "     * * * \n",
      "    * * * * \n",
      "   * * * * * \n",
      "  * * * * * * \n"
     ]
    }
   ],
   "source": [
    "n=7\n",
    "for i in range(1, 7):\n",
    "    print(' '*n, end='') # repet space for n times\n",
    "    print('* '*(i)) # repeat stars for i times\n",
    "    n-=1"
   ]
  },
  {
   "cell_type": "code",
   "execution_count": 57,
   "id": "71a9e0c0-a0a6-49b6-a00c-c6942f69e57a",
   "metadata": {},
   "outputs": [],
   "source": [
    "## LOop Control\n",
    "## Break and Continue\n",
    "fruits_list = [\"Banana\",\"Mango\",\"Apple\",\"Cheery\"]"
   ]
  },
  {
   "cell_type": "code",
   "execution_count": 58,
   "id": "e0010d26-d909-46e4-a15c-30c99107ac2a",
   "metadata": {},
   "outputs": [
    {
     "name": "stdout",
     "output_type": "stream",
     "text": [
      "Banana\n",
      "Mango\n",
      "The fruit is Apple\n"
     ]
    }
   ],
   "source": [
    "for i in fruits_list:\n",
    "    if i==\"Apple\":\n",
    "        print(\"The fruit is Apple\")\n",
    "        break\n",
    "    print(i)"
   ]
  },
  {
   "cell_type": "code",
   "execution_count": 59,
   "id": "2427cc0d-2e55-48cd-8493-767d8c5c7505",
   "metadata": {},
   "outputs": [
    {
     "name": "stdout",
     "output_type": "stream",
     "text": [
      "Banana\n",
      "Mango\n",
      "The fruit is Apple\n",
      "Apple\n",
      "Cheery\n"
     ]
    }
   ],
   "source": [
    "for i in fruits_list:\n",
    "    if i==\"Apple\":\n",
    "        print(\"The fruit is Apple\")\n",
    "        pass\n",
    "    print(i)"
   ]
  },
  {
   "cell_type": "code",
   "execution_count": null,
   "id": "4a2400de-0d41-4d7d-b0f3-fbe8465183db",
   "metadata": {},
   "outputs": [],
   "source": []
  }
 ],
 "metadata": {
  "kernelspec": {
   "display_name": "Python 3 (ipykernel)",
   "language": "python",
   "name": "python3"
  },
  "language_info": {
   "codemirror_mode": {
    "name": "ipython",
    "version": 3
   },
   "file_extension": ".py",
   "mimetype": "text/x-python",
   "name": "python",
   "nbconvert_exporter": "python",
   "pygments_lexer": "ipython3",
   "version": "3.10.8"
  }
 },
 "nbformat": 4,
 "nbformat_minor": 5
}
