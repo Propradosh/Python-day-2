{
 "cells": [
  {
   "cell_type": "markdown",
   "id": "0f9852e9-5b78-44f3-8b5b-fa293218dee6",
   "metadata": {},
   "source": [
    "## 4.1 Operators\n",
    "\n",
    "* Logical\n",
    "* Equality \n",
    "* Comparision\n",
    "* Arithmetic\n",
    "* Bitwise"
   ]
  },
  {
   "cell_type": "markdown",
   "id": "5d8ac4fb-3a1c-4932-b3c3-cb3ca30dc48f",
   "metadata": {},
   "source": [
    "### 4.1.1 Logical Operators\n",
    "In python following keywords are used for boolean operations -\n",
    "\n",
    "|Keywords | Meaning|\n",
    "|-|-|\n",
    "|**not**|unary negation|\n",
    "|**and**|conditional AND|\n",
    "|**or**|conditional OR| "
   ]
  },
  {
   "cell_type": "code",
   "execution_count": 2,
   "id": "f39e2146-f682-4d00-bece-ebe859636c4c",
   "metadata": {},
   "outputs": [
    {
     "data": {
      "text/plain": [
       "True"
      ]
     },
     "execution_count": 2,
     "metadata": {},
     "output_type": "execute_result"
    }
   ],
   "source": [
    "True and True\n"
   ]
  },
  {
   "cell_type": "code",
   "execution_count": 3,
   "id": "f31afd96-079d-42e8-810a-2d48c89099f3",
   "metadata": {},
   "outputs": [
    {
     "data": {
      "text/plain": [
       "False"
      ]
     },
     "execution_count": 3,
     "metadata": {},
     "output_type": "execute_result"
    }
   ],
   "source": [
    "True and False"
   ]
  },
  {
   "cell_type": "code",
   "execution_count": 7,
   "id": "9fb010d7-84df-4a19-b8b1-80a184f54043",
   "metadata": {},
   "outputs": [
    {
     "data": {
      "text/plain": [
       "True"
      ]
     },
     "execution_count": 7,
     "metadata": {},
     "output_type": "execute_result"
    }
   ],
   "source": [
    "True or False"
   ]
  },
  {
   "cell_type": "code",
   "execution_count": 8,
   "id": "5d3393c0-9feb-49d9-b45d-e7c1097a219b",
   "metadata": {},
   "outputs": [
    {
     "data": {
      "text/plain": [
       "False"
      ]
     },
     "execution_count": 8,
     "metadata": {},
     "output_type": "execute_result"
    }
   ],
   "source": [
    "not True"
   ]
  },
  {
   "cell_type": "code",
   "execution_count": 9,
   "id": "2321ebca-c43a-4ba3-896a-67b27c38dba8",
   "metadata": {},
   "outputs": [
    {
     "data": {
      "text/plain": [
       "True"
      ]
     },
     "execution_count": 9,
     "metadata": {},
     "output_type": "execute_result"
    }
   ],
   "source": [
    "not bool(0)"
   ]
  },
  {
   "cell_type": "code",
   "execution_count": 10,
   "id": "85985385-33e6-459a-81fe-bad2471b1072",
   "metadata": {},
   "outputs": [
    {
     "data": {
      "text/plain": [
       "False"
      ]
     },
     "execution_count": 10,
     "metadata": {},
     "output_type": "execute_result"
    }
   ],
   "source": [
    "not 1"
   ]
  },
  {
   "cell_type": "code",
   "execution_count": 11,
   "id": "2bfaf417-c281-4a37-b0bf-aa497621f23b",
   "metadata": {},
   "outputs": [
    {
     "data": {
      "text/plain": [
       "True"
      ]
     },
     "execution_count": 11,
     "metadata": {},
     "output_type": "execute_result"
    }
   ],
   "source": [
    "not 0"
   ]
  },
  {
   "cell_type": "code",
   "execution_count": 12,
   "id": "6ee2574a-94af-4aa0-9c08-4aa832360165",
   "metadata": {},
   "outputs": [
    {
     "data": {
      "text/plain": [
       "False"
      ]
     },
     "execution_count": 12,
     "metadata": {},
     "output_type": "execute_result"
    }
   ],
   "source": [
    "bool(0)"
   ]
  },
  {
   "cell_type": "code",
   "execution_count": 13,
   "id": "a5b74324-9f56-499b-aadb-d87bb9411eb2",
   "metadata": {},
   "outputs": [
    {
     "data": {
      "text/plain": [
       "True"
      ]
     },
     "execution_count": 13,
     "metadata": {},
     "output_type": "execute_result"
    }
   ],
   "source": [
    "bool(1)"
   ]
  },
  {
   "cell_type": "code",
   "execution_count": 5,
   "id": "941e3c48-bfbc-4239-b530-b647702e3f4d",
   "metadata": {},
   "outputs": [
    {
     "data": {
      "text/plain": [
       "1"
      ]
     },
     "execution_count": 5,
     "metadata": {},
     "output_type": "execute_result"
    }
   ],
   "source": [
    "int(bool(1))"
   ]
  },
  {
   "cell_type": "code",
   "execution_count": 6,
   "id": "2dba3d01-d9fb-4ae0-8d2b-ae6006f50f5b",
   "metadata": {},
   "outputs": [
    {
     "data": {
      "text/plain": [
       "False"
      ]
     },
     "execution_count": 6,
     "metadata": {},
     "output_type": "execute_result"
    }
   ],
   "source": [
    "not int(bool(1))"
   ]
  },
  {
   "cell_type": "code",
   "execution_count": 10,
   "id": "60ea3273-2543-46f7-a878-658381f72a1a",
   "metadata": {},
   "outputs": [
    {
     "data": {
      "text/plain": [
       "False"
      ]
     },
     "execution_count": 10,
     "metadata": {},
     "output_type": "execute_result"
    }
   ],
   "source": [
    "not -1"
   ]
  },
  {
   "cell_type": "code",
   "execution_count": 4,
   "id": "307027aa-bb5e-426f-ac25-61c7f97f8b4e",
   "metadata": {},
   "outputs": [
    {
     "name": "stdout",
     "output_type": "stream",
     "text": [
      "Defined value of START = True\n",
      "Defined value of STOP = False \n",
      "\n",
      "Defined value of START = True\n",
      "Value of STOP by negating START= False \n",
      "\n",
      "Value of START by negating STOP = True\n",
      "Defined value of STOP = False \n",
      "\n"
     ]
    }
   ],
   "source": [
    "# Lets define two variables having boolean values True and False-\n",
    "START = True\n",
    "STOP = False\n",
    "\n",
    "# Print the values as it is\n",
    "print(f\"Defined value of START = {START}\")\n",
    "print(f\"Defined value of STOP = {STOP} \\n\")\n",
    "\n",
    "# if can also be written as - \n",
    "print(f\"Defined value of START = {START}\")\n",
    "print(f\"Value of STOP by negating START= {not START} \\n\")\n",
    "\n",
    "# alternatively -\n",
    "print(f\"Value of START by negating STOP = {not STOP}\")\n",
    "print(f\"Defined value of STOP = {STOP} \\n\")"
   ]
  },
  {
   "cell_type": "code",
   "execution_count": 7,
   "id": "38e58293-65d7-4a02-be1a-cc0a58a53126",
   "metadata": {},
   "outputs": [
    {
     "name": "stdout",
     "output_type": "stream",
     "text": [
      "Defined value of START = 1\n",
      "Defined value of STOP = 0 \n",
      "\n",
      "Defined value of START = 1\n",
      "Value of STOP by negating START= 0 \n",
      "\n",
      "Value of START by negating STOP = 1\n",
      "Defined value of STOP = 0 \n",
      "\n"
     ]
    }
   ],
   "source": [
    "START = 1\n",
    "STOP = 0\n",
    "\n",
    "# Print the values as it is\n",
    "print(f\"Defined value of START = {START}\")\n",
    "print(f\"Defined value of STOP = {STOP} \\n\")\n",
    "\n",
    "# if can also be written as - \n",
    "print(f\"Defined value of START = {START}\")\n",
    "print(f\"Value of STOP by negating START= {int(not START)} \\n\")\n",
    "\n",
    "# alternatively -\n",
    "print(f\"Value of START by negating STOP = {int(not STOP)}\")\n",
    "print(f\"Defined value of STOP = {STOP} \\n\")"
   ]
  },
  {
   "cell_type": "code",
   "execution_count": 11,
   "id": "470b3b77-ae24-49f3-92bb-7c42f45d6a05",
   "metadata": {},
   "outputs": [
    {
     "name": "stdout",
     "output_type": "stream",
     "text": [
      "boolean value of no. 0 is False\n",
      "boolean value of no. 1 is True\n",
      "negation of 0 is True and negation of 1 is False\n",
      "\n",
      "#------------------------#\n",
      "\n"
     ]
    }
   ],
   "source": [
    "zero = 0\n",
    "one = 1\n",
    "\n",
    "print(f\"boolean value of no. {zero} is {bool(zero)}\")\n",
    "print(f\"boolean value of no. {one} is {bool(one)}\")\n",
    "print(f\"negation of {zero} is {not zero} and negation of {one} is {not one}\")\n",
    "print(\"\\n#------------------------#\\n\")"
   ]
  },
  {
   "cell_type": "code",
   "execution_count": 12,
   "id": "4fc2d2db-3936-4176-93b4-2141d03fecda",
   "metadata": {},
   "outputs": [
    {
     "name": "stdout",
     "output_type": "stream",
     "text": [
      "boolean value of no. -5 is True\n",
      "boolean value of no. 5 is True\n",
      "negation of -5 is False and negation of 5 is False\n",
      "\n",
      "#------------------------#\n",
      "\n"
     ]
    }
   ],
   "source": [
    "Some_negative_integer = -5\n",
    "Some_positive_integer = 5\n",
    "\n",
    "print(f\"boolean value of no. {Some_negative_integer} is {bool(Some_negative_integer)}\")\n",
    "print(f\"boolean value of no. {Some_positive_integer} is {bool(Some_positive_integer)}\")\n",
    "print(f\"negation of {Some_negative_integer} is {not Some_negative_integer} \\\n",
    "and negation of {Some_positive_integer} is {not Some_positive_integer}\")\n",
    "\n",
    "print(\"\\n#------------------------#\\n\")"
   ]
  },
  {
   "cell_type": "code",
   "execution_count": 13,
   "id": "830d5684-4771-41c4-bc0f-2674f4f74c5c",
   "metadata": {},
   "outputs": [
    {
     "data": {
      "text/plain": [
       "False"
      ]
     },
     "execution_count": 13,
     "metadata": {},
     "output_type": "execute_result"
    }
   ],
   "source": [
    "not -5"
   ]
  },
  {
   "cell_type": "code",
   "execution_count": 18,
   "id": "ce2cddff-8f6b-4525-9f8b-2b283b355115",
   "metadata": {},
   "outputs": [
    {
     "data": {
      "text/plain": [
       "False"
      ]
     },
     "execution_count": 18,
     "metadata": {},
     "output_type": "execute_result"
    }
   ],
   "source": [
    "not 5.99"
   ]
  },
  {
   "cell_type": "code",
   "execution_count": 19,
   "id": "a3983227-0f3f-411c-b8da-a74b817d1d5c",
   "metadata": {},
   "outputs": [
    {
     "name": "stdout",
     "output_type": "stream",
     "text": [
      "boolean value of no. -5.99 is True\n",
      "boolean value of no. 5.6 is True\n",
      "negation of -5.99 is False and negation of 5.6 is False\n"
     ]
    }
   ],
   "source": [
    "Some_negative_float = -5.99\n",
    "Some_positive_float = 5.6\n",
    "\n",
    "print(f\"boolean value of no. {Some_negative_float} is {bool(Some_negative_float)}\")\n",
    "print(f\"boolean value of no. {Some_positive_float} is {bool(Some_positive_float)}\")\n",
    "print(f\"negation of {Some_negative_float} is {not Some_negative_float} \\\n",
    "and negation of {Some_positive_float} is {not Some_positive_float}\")"
   ]
  },
  {
   "cell_type": "markdown",
   "id": "81697cc0-6b02-47f4-9076-259d42afa9b5",
   "metadata": {},
   "source": [
    "## Logical And"
   ]
  },
  {
   "cell_type": "code",
   "execution_count": 23,
   "id": "fa6f2a7c-3747-493e-882e-f0b089581a68",
   "metadata": {},
   "outputs": [
    {
     "name": "stdout",
     "output_type": "stream",
     "text": [
      "Dish contains VEGETABLES: True\n",
      "Dish contains SALT: False\n",
      "Hence dish prepared was good: False\n",
      "\n"
     ]
    }
   ],
   "source": [
    "VEGETABLES = True\n",
    "SALT = False\n",
    "DISH = VEGETABLES and SALT\n",
    "\n",
    "print(f\"Dish contains VEGETABLES: {VEGETABLES}\")\n",
    "print(f\"Dish contains SALT: {SALT}\")\n",
    "print(f\"Hence dish prepared was good: {DISH}\\n\")"
   ]
  },
  {
   "cell_type": "code",
   "execution_count": 24,
   "id": "ca4b518b-f891-4fa2-b213-72c950e76829",
   "metadata": {},
   "outputs": [
    {
     "data": {
      "text/plain": [
       "0"
      ]
     },
     "execution_count": 24,
     "metadata": {},
     "output_type": "execute_result"
    }
   ],
   "source": [
    "True * False"
   ]
  },
  {
   "cell_type": "code",
   "execution_count": 25,
   "id": "08ae161e-f440-4569-8cab-9b010bc78748",
   "metadata": {},
   "outputs": [
    {
     "data": {
      "text/plain": [
       "True"
      ]
     },
     "execution_count": 25,
     "metadata": {},
     "output_type": "execute_result"
    }
   ],
   "source": [
    "not(True) * False # Here first (true * false) operation done then not applied"
   ]
  },
  {
   "cell_type": "code",
   "execution_count": 29,
   "id": "84dbf044-7c8c-48a6-8443-c682fe139126",
   "metadata": {},
   "outputs": [
    {
     "data": {
      "text/plain": [
       "0"
      ]
     },
     "execution_count": 29,
     "metadata": {},
     "output_type": "execute_result"
    }
   ],
   "source": [
    "(not(True)) * False # Here not of true false * False answer 0"
   ]
  },
  {
   "cell_type": "code",
   "execution_count": 26,
   "id": "d3a24196-468f-4352-9e37-75c3560c0f53",
   "metadata": {},
   "outputs": [
    {
     "data": {
      "text/plain": [
       "1"
      ]
     },
     "execution_count": 26,
     "metadata": {},
     "output_type": "execute_result"
    }
   ],
   "source": [
    "True * True"
   ]
  },
  {
   "cell_type": "code",
   "execution_count": 27,
   "id": "de1ab769-b675-45ab-98c6-88f22a85059d",
   "metadata": {},
   "outputs": [
    {
     "data": {
      "text/plain": [
       "0"
      ]
     },
     "execution_count": 27,
     "metadata": {},
     "output_type": "execute_result"
    }
   ],
   "source": [
    "False * False"
   ]
  },
  {
   "cell_type": "code",
   "execution_count": 28,
   "id": "5b819207-f2ae-414a-a92a-93ac520c7ece",
   "metadata": {},
   "outputs": [
    {
     "ename": "SyntaxError",
     "evalue": "invalid syntax (930031231.py, line 1)",
     "output_type": "error",
     "traceback": [
      "\u001b[0;36m  Cell \u001b[0;32mIn[28], line 1\u001b[0;36m\u001b[0m\n\u001b[0;31m    False * not(False)\u001b[0m\n\u001b[0m            ^\u001b[0m\n\u001b[0;31mSyntaxError\u001b[0m\u001b[0;31m:\u001b[0m invalid syntax\n"
     ]
    }
   ],
   "source": [
    "False * not(False) #here since not is present after * so it shows error."
   ]
  },
  {
   "cell_type": "code",
   "execution_count": 30,
   "id": "3811cd5f-9bb7-4d3f-a43a-691fc1d69156",
   "metadata": {},
   "outputs": [
    {
     "data": {
      "text/plain": [
       "True"
      ]
     },
     "execution_count": 30,
     "metadata": {},
     "output_type": "execute_result"
    }
   ],
   "source": [
    "not(False)*False ==True"
   ]
  },
  {
   "cell_type": "code",
   "execution_count": 33,
   "id": "8bb28004-0d1d-4ea9-9dba-a5febc165a24",
   "metadata": {},
   "outputs": [
    {
     "name": "stdout",
     "output_type": "stream",
     "text": [
      "True\n"
     ]
    }
   ],
   "source": [
    "print (not(False)*False)"
   ]
  },
  {
   "cell_type": "code",
   "execution_count": 32,
   "id": "fc1b0b07-a62c-417b-9c63-410cf5222c1e",
   "metadata": {},
   "outputs": [
    {
     "name": "stdout",
     "output_type": "stream",
     "text": [
      "0\n"
     ]
    }
   ],
   "source": [
    "print ((not(False))*False)"
   ]
  },
  {
   "cell_type": "code",
   "execution_count": 34,
   "id": "7a3cc7a9-8d6b-4229-b45f-5d708c75de83",
   "metadata": {},
   "outputs": [
    {
     "data": {
      "text/plain": [
       "True"
      ]
     },
     "execution_count": 34,
     "metadata": {},
     "output_type": "execute_result"
    }
   ],
   "source": [
    "not False * True ==True"
   ]
  },
  {
   "cell_type": "markdown",
   "id": "bdb72afe-63eb-4c69-aaf9-ce1a4000ec8d",
   "metadata": {},
   "source": [
    "### 4.1.2 Equality Operators\n",
    "\n",
    "Following operations are present in python for equlity check operation-\n",
    "\n",
    "|Operators|Meaning|\n",
    "|-|-|\n",
    "|**is**|***a is b*** returns true if variable/identifiers a and b *points* to the *same object*|\n",
    "|**is not**|***a is not b*** returns true if variable/identifiers a and b *points* to the *different object*|\n",
    "|**==**|***a == b*** returns true if variable/identifiers a and b has same value|\n",
    "|**!=**|***a != b*** returns true if variable/identifiers a and b has different value|"
   ]
  },
  {
   "cell_type": "code",
   "execution_count": 36,
   "id": "e8f2cd2b-60e7-4096-9055-8c3af8f991d5",
   "metadata": {},
   "outputs": [],
   "source": [
    "lst_a=[1,2,3,4]\n",
    "lst_b=[1,2,3,4]"
   ]
  },
  {
   "cell_type": "code",
   "execution_count": 39,
   "id": "372de642-b308-4b25-8164-748dc6005728",
   "metadata": {},
   "outputs": [
    {
     "name": "stdout",
     "output_type": "stream",
     "text": [
      "140129421834816\n",
      "140129421870400\n"
     ]
    }
   ],
   "source": [
    "print(id(lst_a))\n",
    "print(id(lst_b))"
   ]
  },
  {
   "cell_type": "code",
   "execution_count": 40,
   "id": "51f1a723-7746-483a-99ed-d2d8550af0a6",
   "metadata": {},
   "outputs": [
    {
     "data": {
      "text/plain": [
       "False"
      ]
     },
     "execution_count": 40,
     "metadata": {},
     "output_type": "execute_result"
    }
   ],
   "source": [
    "lst_a is lst_b #IS Operator"
   ]
  },
  {
   "cell_type": "code",
   "execution_count": 15,
   "id": "68caeebe-ef6a-4301-a0c0-98594ae701c2",
   "metadata": {},
   "outputs": [
    {
     "data": {
      "text/plain": [
       "False"
      ]
     },
     "execution_count": 15,
     "metadata": {},
     "output_type": "execute_result"
    }
   ],
   "source": [
    "lst_a is lst_b"
   ]
  },
  {
   "cell_type": "code",
   "execution_count": 16,
   "id": "4aab7c16-93ec-4e9b-82d9-fbde1f8628d8",
   "metadata": {},
   "outputs": [
    {
     "data": {
      "text/plain": [
       "True"
      ]
     },
     "execution_count": 16,
     "metadata": {},
     "output_type": "execute_result"
    }
   ],
   "source": [
    "lst_a==lst_b (# Here it Cheaks what are the values in side this)"
   ]
  },
  {
   "cell_type": "code",
   "execution_count": 41,
   "id": "7fb227c4-0d2e-48be-8c65-84f022689869",
   "metadata": {},
   "outputs": [
    {
     "name": "stdout",
     "output_type": "stream",
     "text": [
      "140129421795776\n",
      "140129421795776\n"
     ]
    }
   ],
   "source": [
    "#EXAMPLE 2\n",
    "lst_a=[1,2,3,4]\n",
    "lst_b=lst_a\n",
    "print(id(lst_a))\n",
    "print(id(lst_b))"
   ]
  },
  {
   "cell_type": "code",
   "execution_count": 42,
   "id": "a6bbcbe7-cbe4-4393-b2c9-46c1be8de508",
   "metadata": {},
   "outputs": [
    {
     "data": {
      "text/plain": [
       "True"
      ]
     },
     "execution_count": 42,
     "metadata": {},
     "output_type": "execute_result"
    }
   ],
   "source": [
    "lst_a is lst_b"
   ]
  },
  {
   "cell_type": "code",
   "execution_count": 43,
   "id": "41a67f0a-30b0-46d7-a1e2-bd1be18faf26",
   "metadata": {},
   "outputs": [
    {
     "data": {
      "text/plain": [
       "True"
      ]
     },
     "execution_count": 43,
     "metadata": {},
     "output_type": "execute_result"
    }
   ],
   "source": [
    "lst_a=[1,2,3,4]\n",
    "lst_b=[1,2,3,4]\n",
    "lst_a is not lst_b"
   ]
  },
  {
   "cell_type": "code",
   "execution_count": 44,
   "id": "1125af5d-3251-4d76-823e-e6fb1a4e4bf7",
   "metadata": {},
   "outputs": [
    {
     "name": "stdout",
     "output_type": "stream",
     "text": [
      "140129619296528\n",
      "140129619296528\n"
     ]
    }
   ],
   "source": [
    "a=2\n",
    "b=2\n",
    "print(id(a))\n",
    "print(id(b))"
   ]
  },
  {
   "cell_type": "code",
   "execution_count": 45,
   "id": "5834def1-c65c-4d8e-86f0-8ff033af5cce",
   "metadata": {},
   "outputs": [
    {
     "name": "stdout",
     "output_type": "stream",
     "text": [
      "140129421796784\n",
      "140129421796784\n"
     ]
    }
   ],
   "source": [
    "str1=\"Pradosh\"\n",
    "str2=\"Pradosh\"\n",
    "print(id(str1))\n",
    "print(id(str2))"
   ]
  },
  {
   "cell_type": "code",
   "execution_count": 46,
   "id": "bf8e4b8e-954e-473b-9468-bb9c99e16d63",
   "metadata": {},
   "outputs": [
    {
     "data": {
      "text/plain": [
       "[1, 2, 3, 4]"
      ]
     },
     "execution_count": 46,
     "metadata": {},
     "output_type": "execute_result"
    }
   ],
   "source": [
    "lst_a"
   ]
  },
  {
   "cell_type": "code",
   "execution_count": 48,
   "id": "902b0e1e-4288-46d2-9725-60e73c774ac3",
   "metadata": {},
   "outputs": [],
   "source": [
    "lst_a[0]=10 # (Replace 0th Position value from 1 to 10)"
   ]
  },
  {
   "cell_type": "code",
   "execution_count": 50,
   "id": "9f59be08-37d7-4c24-8cab-77d55bdde86e",
   "metadata": {},
   "outputs": [
    {
     "data": {
      "text/plain": [
       "[10, 2, 3, 4]"
      ]
     },
     "execution_count": 50,
     "metadata": {},
     "output_type": "execute_result"
    }
   ],
   "source": [
    "lst_a # Now Replaced to 10 i.e IMMUTABLE"
   ]
  },
  {
   "cell_type": "code",
   "execution_count": 51,
   "id": "d80054f8-7466-44fc-aa2a-cae24f3045ee",
   "metadata": {},
   "outputs": [
    {
     "data": {
      "text/plain": [
       "'Pradosh'"
      ]
     },
     "execution_count": 51,
     "metadata": {},
     "output_type": "execute_result"
    }
   ],
   "source": [
    "str1"
   ]
  },
  {
   "cell_type": "code",
   "execution_count": 52,
   "id": "2fe3069e-3666-4b42-ae08-a99f28ae2f7f",
   "metadata": {},
   "outputs": [
    {
     "data": {
      "text/plain": [
       "'P'"
      ]
     },
     "execution_count": 52,
     "metadata": {},
     "output_type": "execute_result"
    }
   ],
   "source": [
    "str1[0]"
   ]
  },
  {
   "cell_type": "code",
   "execution_count": 53,
   "id": "a89733eb-7980-4be4-ad76-25882db692cc",
   "metadata": {},
   "outputs": [
    {
     "ename": "NameError",
     "evalue": "name 'K' is not defined",
     "output_type": "error",
     "traceback": [
      "\u001b[0;31m---------------------------------------------------------------------------\u001b[0m",
      "\u001b[0;31mNameError\u001b[0m                                 Traceback (most recent call last)",
      "Cell \u001b[0;32mIn[53], line 1\u001b[0m\n\u001b[0;32m----> 1\u001b[0m str1[\u001b[38;5;241m0\u001b[39m]\u001b[38;5;241m=\u001b[39m\u001b[43mK\u001b[49m\n",
      "\u001b[0;31mNameError\u001b[0m: name 'K' is not defined"
     ]
    }
   ],
   "source": [
    "str1[0]=K # String is NOT-IMMUTABLE"
   ]
  },
  {
   "cell_type": "markdown",
   "id": "73902517-128e-411b-8612-0a195949e6f4",
   "metadata": {},
   "source": [
    "### 4.1.3 Comparison Operators\n",
    "\n",
    "|Operation|Meaning|\n",
    "|:-:|:-:|\n",
    "| **<** |less than|\n",
    "| **<=** |less than or equal to|\n",
    "| **>** |greater than|\n",
    "| **>=** |greater than or equal to|"
   ]
  },
  {
   "cell_type": "code",
   "execution_count": 54,
   "id": "c5e14f7a-8313-4fb3-91c9-b31b7e02643c",
   "metadata": {},
   "outputs": [
    {
     "name": "stdout",
     "output_type": "stream",
     "text": [
      "bike is faster than car: False\n"
     ]
    }
   ],
   "source": [
    "maxium_speed_of_bike = 150\n",
    "max_speed_of_car = 200\n",
    "\n",
    "print(f\"bike is faster than car: {maxium_speed_of_bike > max_speed_of_car}\")"
   ]
  },
  {
   "cell_type": "code",
   "execution_count": 55,
   "id": "64f986ad-4be1-4553-8a47-828dd7724fa2",
   "metadata": {},
   "outputs": [
    {
     "name": "stdout",
     "output_type": "stream",
     "text": [
      "bike is slower than car: True\n"
     ]
    }
   ],
   "source": [
    "print(f\"bike is slower than car: {maxium_speed_of_bike < max_speed_of_car}\")"
   ]
  },
  {
   "cell_type": "markdown",
   "id": "b62cc046-5624-4c01-83d0-b9bd80489df8",
   "metadata": {},
   "source": [
    "### 4.1.4 Arithmetic Operators\n",
    "\n",
    "|Operation|Meaning|\n",
    "|:-:|:-:|\n",
    "| **+** |addition|\n",
    "| **-** |subtraction|\n",
    "| **\\*** |multiplication|\n",
    "| **/** |true division|\n",
    "| **//** |integer division|\n",
    "| **%** |the modulo operator|"
   ]
  },
  {
   "cell_type": "markdown",
   "id": "0a494550-7a6d-4999-9f14-f29a5b76eb4d",
   "metadata": {},
   "source": [
    "Here `+`, `-`, `*`, `/` are regular arithmatic operators. Lets look at the `//` and `%` operators"
   ]
  },
  {
   "cell_type": "code",
   "execution_count": 2,
   "id": "6e685a4d-5bdf-4ead-bad1-5ba3d50a1b8d",
   "metadata": {},
   "outputs": [],
   "source": [
    "a=25\n",
    "b=101"
   ]
  },
  {
   "cell_type": "code",
   "execution_count": null,
   "id": "204ac7b7-bcd9-4458-8bbb-8c92b136771f",
   "metadata": {},
   "outputs": [],
   "source": [
    "b*a"
   ]
  },
  {
   "cell_type": "code",
   "execution_count": 60,
   "id": "d8be0861-1ab4-4056-883a-659fbbf3354f",
   "metadata": {},
   "outputs": [
    {
     "data": {
      "text/plain": [
       "126"
      ]
     },
     "execution_count": 60,
     "metadata": {},
     "output_type": "execute_result"
    }
   ],
   "source": [
    "b+a"
   ]
  },
  {
   "cell_type": "code",
   "execution_count": 61,
   "id": "785839ec-d5f3-4383-8c3c-0cab5f8f4fbb",
   "metadata": {},
   "outputs": [
    {
     "data": {
      "text/plain": [
       "4.04"
      ]
     },
     "execution_count": 61,
     "metadata": {},
     "output_type": "execute_result"
    }
   ],
   "source": [
    "b/a"
   ]
  },
  {
   "cell_type": "code",
   "execution_count": 62,
   "id": "9da2baf0-2968-441d-9bb6-7ff5842227c8",
   "metadata": {},
   "outputs": [
    {
     "data": {
      "text/plain": [
       "0.24752475247524752"
      ]
     },
     "execution_count": 62,
     "metadata": {},
     "output_type": "execute_result"
    }
   ],
   "source": [
    "a/b"
   ]
  },
  {
   "cell_type": "code",
   "execution_count": 63,
   "id": "ecd98979-1b8c-420b-9d68-a70ebf350275",
   "metadata": {},
   "outputs": [
    {
     "data": {
      "text/plain": [
       "4"
      ]
     },
     "execution_count": 63,
     "metadata": {},
     "output_type": "execute_result"
    }
   ],
   "source": [
    "b//a  #(integer division) it not gives decimal part"
   ]
  },
  {
   "cell_type": "code",
   "execution_count": 64,
   "id": "3e31900d-dc11-4349-a68f-050f11ba9ab4",
   "metadata": {},
   "outputs": [
    {
     "data": {
      "text/plain": [
       "0"
      ]
     },
     "execution_count": 64,
     "metadata": {},
     "output_type": "execute_result"
    }
   ],
   "source": [
    "a//b"
   ]
  },
  {
   "cell_type": "code",
   "execution_count": 3,
   "id": "3c24f7ce-1f09-4b49-ae77-38d90e4bfefd",
   "metadata": {},
   "outputs": [
    {
     "data": {
      "text/plain": [
       "1"
      ]
     },
     "execution_count": 3,
     "metadata": {},
     "output_type": "execute_result"
    }
   ],
   "source": [
    "b%a #it gives the reminder "
   ]
  },
  {
   "cell_type": "code",
   "execution_count": 4,
   "id": "6ea4c703-bb9d-4474-b352-841e0e1a0a46",
   "metadata": {},
   "outputs": [
    {
     "data": {
      "text/plain": [
       "25"
      ]
     },
     "execution_count": 4,
     "metadata": {},
     "output_type": "execute_result"
    }
   ],
   "source": [
    "a%b"
   ]
  },
  {
   "cell_type": "markdown",
   "id": "53652e06-17fd-4f37-88b7-3ea46485b833",
   "metadata": {},
   "source": [
    "## 4.1.5 Bitwise Operators\n",
    "\n",
    "|Operation|Meaning|\n",
    "|:-:|:-:|\n",
    "| **∼** |bitwise complement (prefix unary operator)|\n",
    "| **&** |bitwise and|\n",
    "| **\\|** |bitwise or|\n",
    "| **^** |bitwise exclusive-or|\n",
    "| **<<** |shift bits left, filling in with zeros|\n",
    "| **>>** |shift bits right, filling in with sign bit|\n"
   ]
  },
  {
   "cell_type": "code",
   "execution_count": 5,
   "id": "70da2bef-a8d7-45d6-9fb3-99a638404076",
   "metadata": {},
   "outputs": [
    {
     "data": {
      "text/plain": [
       "'0b1000'"
      ]
     },
     "execution_count": 5,
     "metadata": {},
     "output_type": "execute_result"
    }
   ],
   "source": [
    "var=8\n",
    "bin(var) #Binary of 8"
   ]
  },
  {
   "cell_type": "code",
   "execution_count": 6,
   "id": "9b8b709f-cf3f-4ec4-a9af-752098d97b1a",
   "metadata": {},
   "outputs": [
    {
     "data": {
      "text/plain": [
       "-9"
      ]
     },
     "execution_count": 6,
     "metadata": {},
     "output_type": "execute_result"
    }
   ],
   "source": [
    "~var"
   ]
  },
  {
   "cell_type": "code",
   "execution_count": 8,
   "id": "0194ffb4-2264-4157-954b-de106a490b7f",
   "metadata": {},
   "outputs": [
    {
     "data": {
      "text/plain": [
       "False"
      ]
     },
     "execution_count": 8,
     "metadata": {},
     "output_type": "execute_result"
    }
   ],
   "source": [
    "True & False #AND operation"
   ]
  },
  {
   "cell_type": "code",
   "execution_count": 9,
   "id": "b8d5ae81-f08a-457c-8dd2-fa478cb82956",
   "metadata": {},
   "outputs": [
    {
     "data": {
      "text/plain": [
       "True"
      ]
     },
     "execution_count": 9,
     "metadata": {},
     "output_type": "execute_result"
    }
   ],
   "source": [
    "True | False #OR opertion"
   ]
  },
  {
   "cell_type": "code",
   "execution_count": 15,
   "id": "11edec23-2826-4d57-8b22-f6a671fa5996",
   "metadata": {},
   "outputs": [
    {
     "data": {
      "text/plain": [
       "16"
      ]
     },
     "execution_count": 15,
     "metadata": {},
     "output_type": "execute_result"
    }
   ],
   "source": [
    "var <<1"
   ]
  },
  {
   "cell_type": "code",
   "execution_count": 16,
   "id": "f7f3ce0c-c3a1-41ea-b46a-7ffa26f8de1d",
   "metadata": {},
   "outputs": [],
   "source": [
    "var=6"
   ]
  },
  {
   "cell_type": "code",
   "execution_count": 19,
   "id": "6e6516be-a56c-4380-8fa7-43eca890c34e",
   "metadata": {},
   "outputs": [
    {
     "data": {
      "text/plain": [
       "12"
      ]
     },
     "execution_count": 19,
     "metadata": {},
     "output_type": "execute_result"
    }
   ],
   "source": [
    "var <<1"
   ]
  },
  {
   "cell_type": "markdown",
   "id": "f5f2bc39-2b6c-47b7-81a6-aa215197a1fa",
   "metadata": {},
   "source": [
    "# Learn From YOUTUBE(bitwise operation)"
   ]
  },
  {
   "cell_type": "markdown",
   "id": "9ac42112-7844-4ea1-8a0a-26cbf6cb05ed",
   "metadata": {},
   "source": [
    "## 6.2.1 String manipulation\n",
    "\n",
    "Strings are used to record the text information such as name. In Python, Strings act as “Sequence” which means Python tracks every element in the String as a sequence. This is one of the important features of the Python language.\n",
    "\n",
    "For example, Python understands the string \"hello' to be a sequence of letters in a specific order which means the indexing technique to grab particular letters (like first letter or the last letter).\n",
    "\n",
    "As we now know string contains set of characters, let's check how can we manipulate and take subset of string, how can we access charcters out of string and do some manipulation on strings.\n",
    "\n",
    "Subset of string can be access by using slice operator [] or [:](String index starts with 0 and -1 at the end). Lets look at the example."
   ]
  },
  {
   "cell_type": "code",
   "execution_count": 20,
   "id": "6aaefeaa-7c8b-42ea-9996-86039ca304f9",
   "metadata": {},
   "outputs": [
    {
     "data": {
      "text/plain": [
       "'Welcome to data Science Masters'"
      ]
     },
     "execution_count": 20,
     "metadata": {},
     "output_type": "execute_result"
    }
   ],
   "source": [
    "\"Welcome to data Science Masters\""
   ]
  },
  {
   "cell_type": "code",
   "execution_count": 21,
   "id": "f59e7900-3e44-4311-8b88-949ae31eb6a1",
   "metadata": {},
   "outputs": [],
   "source": [
    "str1=\"Welcome to data Science Masters\""
   ]
  },
  {
   "cell_type": "code",
   "execution_count": 22,
   "id": "d90edd85-b9cb-49d8-85a7-c0c313a76bd3",
   "metadata": {},
   "outputs": [
    {
     "data": {
      "text/plain": [
       "str"
      ]
     },
     "execution_count": 22,
     "metadata": {},
     "output_type": "execute_result"
    }
   ],
   "source": [
    "type(str1)"
   ]
  },
  {
   "cell_type": "code",
   "execution_count": 24,
   "id": "059ef501-abb5-4789-88a9-14935894c302",
   "metadata": {},
   "outputs": [
    {
     "ename": "NameError",
     "evalue": "name 'e' is not defined",
     "output_type": "error",
     "traceback": [
      "\u001b[0;31m---------------------------------------------------------------------------\u001b[0m",
      "\u001b[0;31mNameError\u001b[0m                                 Traceback (most recent call last)",
      "Cell \u001b[0;32mIn[24], line 1\u001b[0m\n\u001b[0;32m----> 1\u001b[0m str1[\u001b[38;5;241m0\u001b[39m]\u001b[38;5;241m=\u001b[39m\u001b[43me\u001b[49m\n",
      "\u001b[0;31mNameError\u001b[0m: name 'e' is not defined"
     ]
    }
   ],
   "source": [
    "str1[0]"
   ]
  },
  {
   "cell_type": "code",
   "execution_count": 30,
   "id": "cbeca4c8-4bee-47ad-9374-ee9c15cd4598",
   "metadata": {},
   "outputs": [],
   "source": [
    "string=\"Pw Skills Data Science\""
   ]
  },
  {
   "cell_type": "code",
   "execution_count": 31,
   "id": "c9f7d38f-3bc4-47f9-8826-6d455d1a1458",
   "metadata": {},
   "outputs": [
    {
     "data": {
      "text/plain": [
       "'i'"
      ]
     },
     "execution_count": 31,
     "metadata": {},
     "output_type": "execute_result"
    }
   ],
   "source": [
    "string[5] # 5th position Element"
   ]
  },
  {
   "cell_type": "code",
   "execution_count": 34,
   "id": "c37bfb20-17ef-4509-acd7-a97f3e52570e",
   "metadata": {},
   "outputs": [
    {
     "data": {
      "text/plain": [
       "'e'"
      ]
     },
     "execution_count": 34,
     "metadata": {},
     "output_type": "execute_result"
    }
   ],
   "source": [
    "string[-1] # Last Element"
   ]
  },
  {
   "cell_type": "code",
   "execution_count": 35,
   "id": "86b43471-7c3b-4197-9016-59ea149af518",
   "metadata": {},
   "outputs": [
    {
     "data": {
      "text/plain": [
       "'e'"
      ]
     },
     "execution_count": 35,
     "metadata": {},
     "output_type": "execute_result"
    }
   ],
   "source": [
    "string[-1:]"
   ]
  },
  {
   "cell_type": "code",
   "execution_count": 36,
   "id": "eabd4b90-52cf-40b0-95db-ef94f8f9ac52",
   "metadata": {},
   "outputs": [
    {
     "data": {
      "text/plain": [
       "'nce'"
      ]
     },
     "execution_count": 36,
     "metadata": {},
     "output_type": "execute_result"
    }
   ],
   "source": [
    "string[-3:]"
   ]
  },
  {
   "cell_type": "code",
   "execution_count": 37,
   "id": "b8f1f6d7-de66-46df-8b39-8663d8ddb60f",
   "metadata": {},
   "outputs": [
    {
     "data": {
      "text/plain": [
       "'Scie'"
      ]
     },
     "execution_count": 37,
     "metadata": {},
     "output_type": "execute_result"
    }
   ],
   "source": [
    "string[-7:-3]"
   ]
  },
  {
   "cell_type": "code",
   "execution_count": 32,
   "id": "1019bb21-ca39-42fb-823d-9ffcae36201a",
   "metadata": {},
   "outputs": [
    {
     "data": {
      "text/plain": [
       "'ills Data Science'"
      ]
     },
     "execution_count": 32,
     "metadata": {},
     "output_type": "execute_result"
    }
   ],
   "source": [
    "string[5:]"
   ]
  },
  {
   "cell_type": "code",
   "execution_count": 33,
   "id": "91b87560-c6a3-4ec3-b9c8-c5f142beb28c",
   "metadata": {},
   "outputs": [
    {
     "data": {
      "text/plain": [
       "'ills D'"
      ]
     },
     "execution_count": 33,
     "metadata": {},
     "output_type": "execute_result"
    }
   ],
   "source": [
    "string[5:11]"
   ]
  },
  {
   "cell_type": "code",
   "execution_count": 38,
   "id": "b1170c87-2874-498e-ad63-7b71716f0c79",
   "metadata": {},
   "outputs": [
    {
     "data": {
      "text/plain": [
       "'Pw Skills Data Scienc'"
      ]
     },
     "execution_count": 38,
     "metadata": {},
     "output_type": "execute_result"
    }
   ],
   "source": [
    "string[:-1]"
   ]
  },
  {
   "cell_type": "code",
   "execution_count": 39,
   "id": "bf6b5514-dd04-4703-928b-775ac40f8fe7",
   "metadata": {},
   "outputs": [
    {
     "data": {
      "text/plain": [
       "'Pw Skills Data Science'"
      ]
     },
     "execution_count": 39,
     "metadata": {},
     "output_type": "execute_result"
    }
   ],
   "source": [
    "string[:]"
   ]
  },
  {
   "cell_type": "code",
   "execution_count": 40,
   "id": "f6c6ef06-d8ed-434b-8e80-3216037bf213",
   "metadata": {},
   "outputs": [
    {
     "data": {
      "text/plain": [
       "'ad'"
      ]
     },
     "execution_count": 40,
     "metadata": {},
     "output_type": "execute_result"
    }
   ],
   "source": [
    "name=\"Pradosh\"\n",
    "name[-5:4]"
   ]
  },
  {
   "cell_type": "code",
   "execution_count": 41,
   "id": "988a21f2-93b0-4cb1-89e1-5dd10f72807e",
   "metadata": {},
   "outputs": [],
   "source": [
    "str1=\"Welcome to data Science Masters\""
   ]
  },
  {
   "cell_type": "code",
   "execution_count": 42,
   "id": "54f7fbc0-985f-46ef-a707-d5bd74705620",
   "metadata": {},
   "outputs": [
    {
     "data": {
      "text/plain": [
       "'Pw Skills Data Science'"
      ]
     },
     "execution_count": 42,
     "metadata": {},
     "output_type": "execute_result"
    }
   ],
   "source": [
    "string[::]"
   ]
  },
  {
   "cell_type": "code",
   "execution_count": 43,
   "id": "ee41c863-21e4-406d-962f-2fee75ce9e5b",
   "metadata": {},
   "outputs": [
    {
     "data": {
      "text/plain": [
       "'ecneicS ataD sllikS wP'"
      ]
     },
     "execution_count": 43,
     "metadata": {},
     "output_type": "execute_result"
    }
   ],
   "source": [
    "string[::-1] #Everything Reversed"
   ]
  },
  {
   "cell_type": "code",
   "execution_count": 44,
   "id": "6aad903d-63d9-41c6-a85c-79efbec47db7",
   "metadata": {},
   "outputs": [
    {
     "data": {
      "text/plain": [
       "'eniSaa liSw'"
      ]
     },
     "execution_count": 44,
     "metadata": {},
     "output_type": "execute_result"
    }
   ],
   "source": [
    "string[::-2]"
   ]
  },
  {
   "cell_type": "code",
   "execution_count": 45,
   "id": "f2a51160-0844-4bf1-91aa-437ec7b90bec",
   "metadata": {},
   "outputs": [
    {
     "data": {
      "text/plain": [
       "'P klsDt cec'"
      ]
     },
     "execution_count": 45,
     "metadata": {},
     "output_type": "execute_result"
    }
   ],
   "source": [
    "string[::2]"
   ]
  },
  {
   "cell_type": "code",
   "execution_count": 46,
   "id": "de0e9d74-a903-4889-a76c-088ccda450a2",
   "metadata": {},
   "outputs": [
    {
     "data": {
      "text/plain": [
       "'darP'"
      ]
     },
     "execution_count": 46,
     "metadata": {},
     "output_type": "execute_result"
    }
   ],
   "source": [
    "name=\"Pradosh\"\n",
    "name[3::-1]"
   ]
  },
  {
   "cell_type": "code",
   "execution_count": 47,
   "id": "10c66493-a062-4d85-9b05-2795451f2899",
   "metadata": {},
   "outputs": [
    {
     "data": {
      "text/plain": [
       "'da'"
      ]
     },
     "execution_count": 47,
     "metadata": {},
     "output_type": "execute_result"
    }
   ],
   "source": [
    "name[3:1:-1]"
   ]
  },
  {
   "cell_type": "code",
   "execution_count": 48,
   "id": "925029b8-15d3-4346-b69f-b72b105819d6",
   "metadata": {},
   "outputs": [],
   "source": [
    "course_name=\"Data Science Masters\""
   ]
  },
  {
   "cell_type": "code",
   "execution_count": 49,
   "id": "986e86e9-d7f4-4ac2-8fd5-b2f48e5e80de",
   "metadata": {},
   "outputs": [
    {
     "data": {
      "text/plain": [
       "'sretsaM ecneicS ataD'"
      ]
     },
     "execution_count": 49,
     "metadata": {},
     "output_type": "execute_result"
    }
   ],
   "source": [
    "course_name[::-1]"
   ]
  },
  {
   "cell_type": "code",
   "execution_count": 50,
   "id": "994ee75c-8bd2-4a72-be81-313c462db793",
   "metadata": {},
   "outputs": [
    {
     "data": {
      "text/plain": [
       "'Science'"
      ]
     },
     "execution_count": 50,
     "metadata": {},
     "output_type": "execute_result"
    }
   ],
   "source": [
    "course_name[5:12]"
   ]
  },
  {
   "cell_type": "code",
   "execution_count": 56,
   "id": "43d33e15-7266-4434-9f50-6b07c25d55a3",
   "metadata": {},
   "outputs": [
    {
     "data": {
      "text/plain": [
       "'ecneicS'"
      ]
     },
     "execution_count": 56,
     "metadata": {},
     "output_type": "execute_result"
    }
   ],
   "source": [
    "course_name[11:4:-1]"
   ]
  },
  {
   "cell_type": "code",
   "execution_count": 60,
   "id": "d2ebb0a1-98fb-47a0-8573-1cfdbdf9d096",
   "metadata": {},
   "outputs": [
    {
     "data": {
      "text/plain": [
       "'Data Science Masters In Banglore'"
      ]
     },
     "execution_count": 60,
     "metadata": {},
     "output_type": "execute_result"
    }
   ],
   "source": [
    "#Concatination\n",
    "course_name + \" In Banglore\""
   ]
  },
  {
   "cell_type": "code",
   "execution_count": 65,
   "id": "3ac1e1d4-9d35-44f2-970b-b318c6998393",
   "metadata": {},
   "outputs": [
    {
     "name": "stdout",
     "output_type": "stream",
     "text": [
      "HelloWorld\n"
     ]
    }
   ],
   "source": [
    "print (\"Hello\"+\"World\") #Concatination  "
   ]
  },
  {
   "cell_type": "code",
   "execution_count": 67,
   "id": "3f19d4de-9ca2-4287-812b-5fcaa97eaff8",
   "metadata": {},
   "outputs": [
    {
     "data": {
      "text/plain": [
       "'Data Science MastersData Science MastersData Science MastersData Science MastersData Science Masters'"
      ]
     },
     "execution_count": 67,
     "metadata": {},
     "output_type": "execute_result"
    }
   ],
   "source": [
    "course_name*5"
   ]
  },
  {
   "cell_type": "code",
   "execution_count": 68,
   "id": "1bd60203-8ab0-4d0b-adcb-a7fa97fca771",
   "metadata": {},
   "outputs": [
    {
     "data": {
      "text/plain": [
       "20"
      ]
     },
     "execution_count": 68,
     "metadata": {},
     "output_type": "execute_result"
    }
   ],
   "source": [
    "len(course_name) #number of letter without addition of space"
   ]
  },
  {
   "cell_type": "code",
   "execution_count": 71,
   "id": "59e98427-6b62-4270-b213-b19cf15c9078",
   "metadata": {},
   "outputs": [
    {
     "data": {
      "text/plain": [
       "9"
      ]
     },
     "execution_count": 71,
     "metadata": {},
     "output_type": "execute_result"
    }
   ],
   "source": [
    "course_name.find(\"n\")"
   ]
  },
  {
   "cell_type": "code",
   "execution_count": 73,
   "id": "19e94f4a-8d03-45a1-a718-56210c26b700",
   "metadata": {},
   "outputs": [
    {
     "data": {
      "text/plain": [
       "9"
      ]
     },
     "execution_count": 73,
     "metadata": {},
     "output_type": "execute_result"
    }
   ],
   "source": [
    "course_name.find(\"n\",5,10)"
   ]
  },
  {
   "cell_type": "code",
   "execution_count": 74,
   "id": "a495a3f9-9848-45a7-82b1-092c7d376033",
   "metadata": {},
   "outputs": [
    {
     "data": {
      "text/plain": [
       "-1"
      ]
     },
     "execution_count": 74,
     "metadata": {},
     "output_type": "execute_result"
    }
   ],
   "source": [
    "course_name.find(\"z\")"
   ]
  },
  {
   "cell_type": "code",
   "execution_count": 76,
   "id": "9be5daf4-2983-49bf-8887-91fcb610cf6c",
   "metadata": {},
   "outputs": [
    {
     "data": {
      "text/plain": [
       "3"
      ]
     },
     "execution_count": 76,
     "metadata": {},
     "output_type": "execute_result"
    }
   ],
   "source": [
    "#Specific letter calculation\n",
    "course_name.count(\"a\")"
   ]
  },
  {
   "cell_type": "code",
   "execution_count": 80,
   "id": "05f6208e-b707-4c6d-bb16-21d9c48b6df1",
   "metadata": {},
   "outputs": [
    {
     "data": {
      "text/plain": [
       "21"
      ]
     },
     "execution_count": 80,
     "metadata": {},
     "output_type": "execute_result"
    }
   ],
   "source": [
    "course_name.count(\"\") # space or letter calculation"
   ]
  },
  {
   "cell_type": "markdown",
   "id": "74b4cab3-32f6-4c6c-b297-7b2a27536d18",
   "metadata": {},
   "source": [
    "### String split operation"
   ]
  },
  {
   "cell_type": "code",
   "execution_count": 82,
   "id": "e3045390-b645-4912-bb1c-284041be6c15",
   "metadata": {},
   "outputs": [
    {
     "data": {
      "text/plain": [
       "['Data', 'Science', 'Masters']"
      ]
     },
     "execution_count": 82,
     "metadata": {},
     "output_type": "execute_result"
    }
   ],
   "source": [
    "course_name.split(\" \")"
   ]
  },
  {
   "cell_type": "code",
   "execution_count": 83,
   "id": "75fa9159-013b-456d-b68d-0ba979567072",
   "metadata": {},
   "outputs": [
    {
     "data": {
      "text/plain": [
       "['Data ', 'cience Masters']"
      ]
     },
     "execution_count": 83,
     "metadata": {},
     "output_type": "execute_result"
    }
   ],
   "source": [
    "course_name.split(\"S\")"
   ]
  },
  {
   "cell_type": "code",
   "execution_count": 84,
   "id": "2a53ff29-1daa-4dfe-b064-09a3f95c7a32",
   "metadata": {},
   "outputs": [
    {
     "data": {
      "text/plain": [
       "('Data ', 'S', 'cience Masters')"
      ]
     },
     "execution_count": 84,
     "metadata": {},
     "output_type": "execute_result"
    }
   ],
   "source": [
    "course_name.partition(\"S\")"
   ]
  },
  {
   "cell_type": "markdown",
   "id": "20102bac-c054-46a5-89bc-b1fef2321c3a",
   "metadata": {},
   "source": [
    "### Change strings to upper & lower case"
   ]
  },
  {
   "cell_type": "code",
   "execution_count": 85,
   "id": "1a428a4d-bba5-4f3a-a360-32292f691d66",
   "metadata": {},
   "outputs": [
    {
     "data": {
      "text/plain": [
       "'DATA SCIENCE MASTERS'"
      ]
     },
     "execution_count": 85,
     "metadata": {},
     "output_type": "execute_result"
    }
   ],
   "source": [
    "course_name.upper()"
   ]
  },
  {
   "cell_type": "code",
   "execution_count": 86,
   "id": "abc2ac71-b762-41c8-80e6-8c33304f1e13",
   "metadata": {},
   "outputs": [
    {
     "data": {
      "text/plain": [
       "'data science masters'"
      ]
     },
     "execution_count": 86,
     "metadata": {},
     "output_type": "execute_result"
    }
   ],
   "source": [
    "course_name.lower()"
   ]
  },
  {
   "cell_type": "code",
   "execution_count": 87,
   "id": "a61dad5f-3024-4a12-82cc-1029decd95f0",
   "metadata": {},
   "outputs": [
    {
     "data": {
      "text/plain": [
       "'Data Science Masters'"
      ]
     },
     "execution_count": 87,
     "metadata": {},
     "output_type": "execute_result"
    }
   ],
   "source": [
    "course_name.title()"
   ]
  },
  {
   "cell_type": "code",
   "execution_count": 88,
   "id": "18ab3b6d-a5ef-474d-8965-d8751f1b0175",
   "metadata": {},
   "outputs": [
    {
     "data": {
      "text/plain": [
       "'dATA sCIENCE mASTERS'"
      ]
     },
     "execution_count": 88,
     "metadata": {},
     "output_type": "execute_result"
    }
   ],
   "source": [
    "course_name.swapcase()"
   ]
  },
  {
   "cell_type": "code",
   "execution_count": null,
   "id": "3cce3dc9-bc42-46e2-9304-5f3bb4365405",
   "metadata": {},
   "outputs": [],
   "source": []
  }
 ],
 "metadata": {
  "kernelspec": {
   "display_name": "Python 3 (ipykernel)",
   "language": "python",
   "name": "python3"
  },
  "language_info": {
   "codemirror_mode": {
    "name": "ipython",
    "version": 3
   },
   "file_extension": ".py",
   "mimetype": "text/x-python",
   "name": "python",
   "nbconvert_exporter": "python",
   "pygments_lexer": "ipython3",
   "version": "3.10.8"
  }
 },
 "nbformat": 4,
 "nbformat_minor": 5
}
