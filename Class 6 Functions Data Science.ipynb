{
 "cells": [
  {
   "cell_type": "markdown",
   "id": "836b9d58-e36c-47e4-9718-6ca59f05aab4",
   "metadata": {},
   "source": [
    "# Functions\n",
    "\n",
    "### *Always Use return instered of print in function "
   ]
  },
  {
   "cell_type": "code",
   "execution_count": 1,
   "id": "1560bea1-1639-4973-a588-dac1a4d5ebda",
   "metadata": {},
   "outputs": [
    {
     "name": "stdout",
     "output_type": "stream",
     "text": [
      "this is my programm\n"
     ]
    }
   ],
   "source": [
    "print(\"this is my programm\")"
   ]
  },
  {
   "cell_type": "code",
   "execution_count": 2,
   "id": "6a24057f-60cd-4ee6-8502-fa5d1761a1fd",
   "metadata": {},
   "outputs": [],
   "source": [
    "l=[1,2,3,4,5]"
   ]
  },
  {
   "cell_type": "code",
   "execution_count": 3,
   "id": "09846572-6af3-4ccb-81f3-1752034ef74b",
   "metadata": {},
   "outputs": [
    {
     "data": {
      "text/plain": [
       "5"
      ]
     },
     "execution_count": 3,
     "metadata": {},
     "output_type": "execute_result"
    }
   ],
   "source": [
    "len(l)"
   ]
  },
  {
   "cell_type": "code",
   "execution_count": 5,
   "id": "b439d8d2-76cd-45cc-a903-5463a4030575",
   "metadata": {},
   "outputs": [],
   "source": [
    "def test():\n",
    "    pass"
   ]
  },
  {
   "cell_type": "code",
   "execution_count": 6,
   "id": "307acb64-397e-48e6-a2c2-cd2157291bd5",
   "metadata": {},
   "outputs": [],
   "source": [
    "def test1():\n",
    "    print(\"This is my very first function\")"
   ]
  },
  {
   "cell_type": "code",
   "execution_count": 8,
   "id": "ba521956-81fe-4868-8ab4-b246edc6e7d6",
   "metadata": {},
   "outputs": [
    {
     "name": "stdout",
     "output_type": "stream",
     "text": [
      "This is my very first function\n"
     ]
    }
   ],
   "source": [
    "test1()"
   ]
  },
  {
   "cell_type": "code",
   "execution_count": 9,
   "id": "aecfdbaf-986c-40ca-8938-c698a6dbf4f8",
   "metadata": {},
   "outputs": [
    {
     "name": "stdout",
     "output_type": "stream",
     "text": [
      "This is my very first function\n"
     ]
    },
    {
     "ename": "TypeError",
     "evalue": "unsupported operand type(s) for +: 'NoneType' and 'str'",
     "output_type": "error",
     "traceback": [
      "\u001b[0;31m---------------------------------------------------------------------------\u001b[0m",
      "\u001b[0;31mTypeError\u001b[0m                                 Traceback (most recent call last)",
      "Cell \u001b[0;32mIn[9], line 1\u001b[0m\n\u001b[0;32m----> 1\u001b[0m \u001b[43mtest1\u001b[49m\u001b[43m(\u001b[49m\u001b[43m)\u001b[49m\u001b[43m \u001b[49m\u001b[38;5;241;43m+\u001b[39;49m\u001b[43m \u001b[49m\u001b[38;5;124;43m\"\u001b[39;49m\u001b[38;5;124;43mPradosh\u001b[39;49m\u001b[38;5;124;43m\"\u001b[39;49m\n",
      "\u001b[0;31mTypeError\u001b[0m: unsupported operand type(s) for +: 'NoneType' and 'str'"
     ]
    }
   ],
   "source": [
    "test1() + \"Pradosh\""
   ]
  },
  {
   "cell_type": "code",
   "execution_count": 10,
   "id": "cb2b273d-77f1-4fa8-a051-e3bcaff7ce5f",
   "metadata": {},
   "outputs": [],
   "source": [
    "def test2():\n",
    "    return\"this is my function in return\""
   ]
  },
  {
   "cell_type": "code",
   "execution_count": 11,
   "id": "5892067b-559b-4051-b424-a5920a44e283",
   "metadata": {},
   "outputs": [
    {
     "data": {
      "text/plain": [
       "'this is my function in return'"
      ]
     },
     "execution_count": 11,
     "metadata": {},
     "output_type": "execute_result"
    }
   ],
   "source": [
    "test2()"
   ]
  },
  {
   "cell_type": "code",
   "execution_count": 13,
   "id": "9a53c5f5-07aa-40d1-a9d2-ac168192548e",
   "metadata": {},
   "outputs": [
    {
     "data": {
      "text/plain": [
       "'this is my function in return Pradosh'"
      ]
     },
     "execution_count": 13,
     "metadata": {},
     "output_type": "execute_result"
    }
   ],
   "source": [
    "test2() + \" Pradosh\""
   ]
  },
  {
   "cell_type": "code",
   "execution_count": 14,
   "id": "4c61f5f6-e546-44e8-99a5-9ac6036d627a",
   "metadata": {},
   "outputs": [],
   "source": [
    "def test3():\n",
    "    return 1,2,3,\"Pradosh\",35.25"
   ]
  },
  {
   "cell_type": "code",
   "execution_count": 15,
   "id": "f8274752-2d54-4585-8cef-bf8fe5315eb1",
   "metadata": {},
   "outputs": [
    {
     "data": {
      "text/plain": [
       "(1, 2, 3, 'Pradosh', 35.25)"
      ]
     },
     "execution_count": 15,
     "metadata": {},
     "output_type": "execute_result"
    }
   ],
   "source": [
    "test3()"
   ]
  },
  {
   "cell_type": "code",
   "execution_count": 16,
   "id": "e0ee7b75-a13e-4a20-ac5a-29f94868cb3c",
   "metadata": {},
   "outputs": [],
   "source": [
    "a= 1,2,3,4,5"
   ]
  },
  {
   "cell_type": "code",
   "execution_count": 17,
   "id": "a9adf3cc-15fb-4542-8572-9cc3e5c54873",
   "metadata": {},
   "outputs": [
    {
     "data": {
      "text/plain": [
       "(1, 2, 3, 4, 5)"
      ]
     },
     "execution_count": 17,
     "metadata": {},
     "output_type": "execute_result"
    }
   ],
   "source": [
    "a"
   ]
  },
  {
   "cell_type": "code",
   "execution_count": 18,
   "id": "24be84ca-e4d2-40bc-a7f3-819392d25685",
   "metadata": {},
   "outputs": [],
   "source": [
    "a,b,c,d=2,4,56.53,True"
   ]
  },
  {
   "cell_type": "code",
   "execution_count": 19,
   "id": "239d115a-4d2b-48ad-9137-d15280e894a9",
   "metadata": {},
   "outputs": [
    {
     "data": {
      "text/plain": [
       "2"
      ]
     },
     "execution_count": 19,
     "metadata": {},
     "output_type": "execute_result"
    }
   ],
   "source": [
    "a"
   ]
  },
  {
   "cell_type": "code",
   "execution_count": 21,
   "id": "aa777ebb-bba7-4963-b0bd-19e54c89f5ed",
   "metadata": {},
   "outputs": [
    {
     "data": {
      "text/plain": [
       "4"
      ]
     },
     "execution_count": 21,
     "metadata": {},
     "output_type": "execute_result"
    }
   ],
   "source": [
    "b"
   ]
  },
  {
   "cell_type": "code",
   "execution_count": 22,
   "id": "9fa6cc0e-deae-4468-8e93-a9e49f6afcc4",
   "metadata": {},
   "outputs": [
    {
     "data": {
      "text/plain": [
       "56.53"
      ]
     },
     "execution_count": 22,
     "metadata": {},
     "output_type": "execute_result"
    }
   ],
   "source": [
    "c"
   ]
  },
  {
   "cell_type": "code",
   "execution_count": 23,
   "id": "902607a9-6e0c-46e6-9a98-979820d8fb17",
   "metadata": {},
   "outputs": [
    {
     "data": {
      "text/plain": [
       "True"
      ]
     },
     "execution_count": 23,
     "metadata": {},
     "output_type": "execute_result"
    }
   ],
   "source": [
    "d"
   ]
  },
  {
   "cell_type": "code",
   "execution_count": 24,
   "id": "7192e615-d88d-4b10-a0ea-f2192c3ff1bf",
   "metadata": {},
   "outputs": [
    {
     "data": {
      "text/plain": [
       "(1, 2, 3, 'Pradosh', 35.25)"
      ]
     },
     "execution_count": 24,
     "metadata": {},
     "output_type": "execute_result"
    }
   ],
   "source": [
    "test3() ## Data inside a Tuples"
   ]
  },
  {
   "cell_type": "code",
   "execution_count": 26,
   "id": "093a9309-4d37-4d0b-8711-414c99cab400",
   "metadata": {},
   "outputs": [
    {
     "data": {
      "text/plain": [
       "1"
      ]
     },
     "execution_count": 26,
     "metadata": {},
     "output_type": "execute_result"
    }
   ],
   "source": [
    "test3()[0]"
   ]
  },
  {
   "cell_type": "code",
   "execution_count": 27,
   "id": "38c23abc-a615-4f2b-99ba-44cac974b1b5",
   "metadata": {},
   "outputs": [
    {
     "data": {
      "text/plain": [
       "'Pradosh'"
      ]
     },
     "execution_count": 27,
     "metadata": {},
     "output_type": "execute_result"
    }
   ],
   "source": [
    "test3()[3]"
   ]
  },
  {
   "cell_type": "code",
   "execution_count": 31,
   "id": "9e4db9e9-12dd-4b58-acd4-2e45ca3d8eea",
   "metadata": {},
   "outputs": [],
   "source": [
    "a,b,c,d,e = test3()"
   ]
  },
  {
   "cell_type": "code",
   "execution_count": 32,
   "id": "2073c70e-40b6-4720-b42a-9150012f5b8c",
   "metadata": {},
   "outputs": [
    {
     "data": {
      "text/plain": [
       "1"
      ]
     },
     "execution_count": 32,
     "metadata": {},
     "output_type": "execute_result"
    }
   ],
   "source": [
    "a"
   ]
  },
  {
   "cell_type": "code",
   "execution_count": 33,
   "id": "f450d800-dd4b-424d-8a73-c4127e1a1904",
   "metadata": {},
   "outputs": [
    {
     "data": {
      "text/plain": [
       "3"
      ]
     },
     "execution_count": 33,
     "metadata": {},
     "output_type": "execute_result"
    }
   ],
   "source": [
    "c"
   ]
  },
  {
   "cell_type": "code",
   "execution_count": 34,
   "id": "43f7d161-3087-4dc7-ab00-331a994d524c",
   "metadata": {},
   "outputs": [
    {
     "data": {
      "text/plain": [
       "'Pradosh'"
      ]
     },
     "execution_count": 34,
     "metadata": {},
     "output_type": "execute_result"
    }
   ],
   "source": [
    "d"
   ]
  },
  {
   "cell_type": "code",
   "execution_count": 38,
   "id": "b4d321b3-35c3-4e30-b844-62303d2b6b7a",
   "metadata": {},
   "outputs": [],
   "source": [
    "def test4():\n",
    "    a=3*4 +5\n",
    "    return a"
   ]
  },
  {
   "cell_type": "code",
   "execution_count": 40,
   "id": "451e5462-f5da-4031-9a33-094399569b54",
   "metadata": {},
   "outputs": [
    {
     "data": {
      "text/plain": [
       "17"
      ]
     },
     "execution_count": 40,
     "metadata": {},
     "output_type": "execute_result"
    }
   ],
   "source": [
    "test4()"
   ]
  },
  {
   "cell_type": "code",
   "execution_count": 41,
   "id": "fef1f9a1-be8a-447f-8c9a-515b2bd7ee1c",
   "metadata": {},
   "outputs": [
    {
     "data": {
      "text/plain": [
       "int"
      ]
     },
     "execution_count": 41,
     "metadata": {},
     "output_type": "execute_result"
    }
   ],
   "source": [
    "type(test4())"
   ]
  },
  {
   "cell_type": "code",
   "execution_count": 42,
   "id": "8e8d1f8a-4946-4c59-912a-475a7791ca34",
   "metadata": {},
   "outputs": [],
   "source": [
    "def test5(a,b):\n",
    "    c=a+b\n",
    "    return c\n",
    "    "
   ]
  },
  {
   "cell_type": "code",
   "execution_count": 45,
   "id": "7759781d-e971-4187-9a51-8fea1c975381",
   "metadata": {},
   "outputs": [
    {
     "data": {
      "text/plain": [
       "4"
      ]
     },
     "execution_count": 45,
     "metadata": {},
     "output_type": "execute_result"
    }
   ],
   "source": [
    "test5(1,3)  # Put value of a,b is 1 & 3"
   ]
  },
  {
   "cell_type": "code",
   "execution_count": 48,
   "id": "c39999d0-d3de-433f-8c0d-8a562eeda93f",
   "metadata": {},
   "outputs": [
    {
     "data": {
      "text/plain": [
       "'Pradosh Kumar'"
      ]
     },
     "execution_count": 48,
     "metadata": {},
     "output_type": "execute_result"
    }
   ],
   "source": [
    "test5(\"Pradosh\",\" Kumar\")"
   ]
  },
  {
   "cell_type": "code",
   "execution_count": 49,
   "id": "2095d938-efad-4007-b45d-6f111fa93824",
   "metadata": {},
   "outputs": [
    {
     "data": {
      "text/plain": [
       "[1, 2, 3, 4, 5, 6]"
      ]
     },
     "execution_count": 49,
     "metadata": {},
     "output_type": "execute_result"
    }
   ],
   "source": [
    "test5([1,2,3],[4,5,6])"
   ]
  },
  {
   "cell_type": "code",
   "execution_count": 51,
   "id": "e44d9398-c473-4996-a434-8a8197bb50e2",
   "metadata": {},
   "outputs": [
    {
     "data": {
      "text/plain": [
       "'Pradosh Kumar'"
      ]
     },
     "execution_count": 51,
     "metadata": {},
     "output_type": "execute_result"
    }
   ],
   "source": [
    "test5(b=\" Kumar\",a=\"Pradosh\")"
   ]
  },
  {
   "cell_type": "code",
   "execution_count": 52,
   "id": "c814e263-28c7-4866-b21a-26f538653142",
   "metadata": {},
   "outputs": [],
   "source": [
    "lst=[1,2,3,4,5,\"Pradosh\",\"Pwskills\",[6,7,8,9]]"
   ]
  },
  {
   "cell_type": "markdown",
   "id": "87f202d4-6c12-47dc-9580-1ea87343ea63",
   "metadata": {},
   "source": [
    "##### create a function which will take list as a input and give me a final list with all the numeric value"
   ]
  },
  {
   "cell_type": "code",
   "execution_count": 64,
   "id": "7233efdd-f72d-4100-9205-cb7ef7af95cd",
   "metadata": {},
   "outputs": [],
   "source": [
    "def test6(a):\n",
    "    n  = []\n",
    "    for i in a :\n",
    "        if type(i) == int or type(i) == float :\n",
    "            n.append(i)\n",
    "    return n"
   ]
  },
  {
   "cell_type": "code",
   "execution_count": 67,
   "id": "8a97901a-0e48-449b-b485-13a28d14beab",
   "metadata": {},
   "outputs": [
    {
     "data": {
      "text/plain": [
       "[1, 2, 3, 4, 5]"
      ]
     },
     "execution_count": 67,
     "metadata": {},
     "output_type": "execute_result"
    }
   ],
   "source": [
    "test6(lst)"
   ]
  },
  {
   "cell_type": "code",
   "execution_count": 68,
   "id": "1be9e07e-fdfd-4b35-8367-5e687aacdfb2",
   "metadata": {},
   "outputs": [
    {
     "data": {
      "text/plain": [
       "[1, 2, 3, 4, 5, 'Pradosh', 'Pwskills', [6, 7, 8, 9]]"
      ]
     },
     "execution_count": 68,
     "metadata": {},
     "output_type": "execute_result"
    }
   ],
   "source": [
    "lst"
   ]
  },
  {
   "cell_type": "code",
   "execution_count": 73,
   "id": "b76205b6-80a8-45b8-bbf7-7e1ed92d6c27",
   "metadata": {},
   "outputs": [],
   "source": [
    "def test7(a) : \n",
    "    n = []\n",
    "    for i in a :\n",
    "        if type(i) == list :\n",
    "            for j in i :\n",
    "                if type(j) == int or type(j) == float :\n",
    "                    n.append(j)\n",
    "        else :\n",
    "            if type(i) == int or type(i) == float :\n",
    "                n.append(i)\n",
    "    return n"
   ]
  },
  {
   "cell_type": "code",
   "execution_count": 74,
   "id": "d8af51ed-3f80-4d8d-b667-f909c68cddd2",
   "metadata": {},
   "outputs": [
    {
     "data": {
      "text/plain": [
       "[1, 2, 3, 4, 5, 6, 7, 8, 9]"
      ]
     },
     "execution_count": 74,
     "metadata": {},
     "output_type": "execute_result"
    }
   ],
   "source": [
    "test7(lst)"
   ]
  },
  {
   "cell_type": "code",
   "execution_count": 76,
   "id": "8009e07b-dfe4-4c69-b174-fc9ef67d3910",
   "metadata": {},
   "outputs": [
    {
     "data": {
      "text/plain": [
       "[1, 2, 3, 4, 5, 'Pradosh', 'Pwskills', [6, 7, 8, 9]]"
      ]
     },
     "execution_count": 76,
     "metadata": {},
     "output_type": "execute_result"
    }
   ],
   "source": [
    "lst"
   ]
  },
  {
   "cell_type": "markdown",
   "id": "8ea230aa-0bd2-41d9-95d0-f6cc11f68286",
   "metadata": {},
   "source": [
    "# Class 2 Functions"
   ]
  },
  {
   "cell_type": "code",
   "execution_count": 1,
   "id": "aba62c46-b6f3-4e26-985a-022f8e4b972f",
   "metadata": {},
   "outputs": [],
   "source": [
    "def test(a,b,c,d,e):\n",
    "    pass\n"
   ]
  },
  {
   "cell_type": "code",
   "execution_count": 3,
   "id": "415559bb-5ed3-4458-8598-8207e37f183c",
   "metadata": {},
   "outputs": [],
   "source": [
    "test(1,2,3,4,5)"
   ]
  },
  {
   "cell_type": "code",
   "execution_count": 4,
   "id": "b1b95dc1-e21b-4004-a673-5e36ad9f53b6",
   "metadata": {},
   "outputs": [
    {
     "ename": "TypeError",
     "evalue": "test() takes 5 positional arguments but 7 were given",
     "output_type": "error",
     "traceback": [
      "\u001b[0;31m---------------------------------------------------------------------------\u001b[0m",
      "\u001b[0;31mTypeError\u001b[0m                                 Traceback (most recent call last)",
      "Cell \u001b[0;32mIn[4], line 1\u001b[0m\n\u001b[0;32m----> 1\u001b[0m \u001b[43mtest\u001b[49m\u001b[43m(\u001b[49m\u001b[38;5;241;43m1\u001b[39;49m\u001b[43m,\u001b[49m\u001b[38;5;241;43m2\u001b[39;49m\u001b[43m,\u001b[49m\u001b[38;5;241;43m3\u001b[39;49m\u001b[43m,\u001b[49m\u001b[38;5;241;43m4\u001b[39;49m\u001b[43m,\u001b[49m\u001b[38;5;241;43m5\u001b[39;49m\u001b[43m,\u001b[49m\u001b[38;5;241;43m6\u001b[39;49m\u001b[43m,\u001b[49m\u001b[38;5;241;43m7\u001b[39;49m\u001b[43m)\u001b[49m\n",
      "\u001b[0;31mTypeError\u001b[0m: test() takes 5 positional arguments but 7 were given"
     ]
    }
   ],
   "source": [
    "test(1,2,3,4,5,6,7)"
   ]
  },
  {
   "cell_type": "code",
   "execution_count": 9,
   "id": "e3871370-9b84-4126-a243-da34f5ed6e5b",
   "metadata": {},
   "outputs": [],
   "source": [
    "def test1(*args):\n",
    "    return args"
   ]
  },
  {
   "cell_type": "code",
   "execution_count": 7,
   "id": "852d0bc8-340d-409b-b8fb-577f120afc23",
   "metadata": {},
   "outputs": [
    {
     "data": {
      "text/plain": [
       "(2,)"
      ]
     },
     "execution_count": 7,
     "metadata": {},
     "output_type": "execute_result"
    }
   ],
   "source": [
    "test1(2)"
   ]
  },
  {
   "cell_type": "code",
   "execution_count": 12,
   "id": "4a462f89-5f7a-4d16-b391-76600b011e67",
   "metadata": {},
   "outputs": [
    {
     "data": {
      "text/plain": [
       "(1, 2, 3, 4, 5)"
      ]
     },
     "execution_count": 12,
     "metadata": {},
     "output_type": "execute_result"
    }
   ],
   "source": [
    "test1(1,2,3,4,5)"
   ]
  },
  {
   "cell_type": "code",
   "execution_count": 11,
   "id": "3843fe3b-9bfb-4b5c-a5f8-018c424b89d1",
   "metadata": {},
   "outputs": [
    {
     "data": {
      "text/plain": [
       "('Pradosh', [1, 2, 3, 4], (1, 2, 3, 4, 5))"
      ]
     },
     "execution_count": 11,
     "metadata": {},
     "output_type": "execute_result"
    }
   ],
   "source": [
    "test1(\"Pradosh\",[1,2,3,4],(1,2,3,4,5))"
   ]
  },
  {
   "cell_type": "code",
   "execution_count": 18,
   "id": "fbc9774a-16ee-4171-b20c-3fbc392eaa1d",
   "metadata": {},
   "outputs": [],
   "source": [
    "def test2(*Pradosh):\n",
    "    return Pradosh"
   ]
  },
  {
   "cell_type": "code",
   "execution_count": 20,
   "id": "bfb3492a-81a0-4fd9-8304-efe1f6c48632",
   "metadata": {},
   "outputs": [
    {
     "data": {
      "text/plain": [
       "(3, 4, 5)"
      ]
     },
     "execution_count": 20,
     "metadata": {},
     "output_type": "execute_result"
    }
   ],
   "source": [
    "test2(3,4,5)"
   ]
  },
  {
   "cell_type": "code",
   "execution_count": 21,
   "id": "8fa80009-85f3-4256-9e3d-90cb13fc776e",
   "metadata": {},
   "outputs": [],
   "source": [
    "def test3(*args , a ):\n",
    "    return args ,a "
   ]
  },
  {
   "cell_type": "code",
   "execution_count": 23,
   "id": "2a1a4ef0-b48c-4d64-ab5f-74ab1853f3ca",
   "metadata": {},
   "outputs": [
    {
     "ename": "TypeError",
     "evalue": "test3() missing 1 required keyword-only argument: 'a'",
     "output_type": "error",
     "traceback": [
      "\u001b[0;31m---------------------------------------------------------------------------\u001b[0m",
      "\u001b[0;31mTypeError\u001b[0m                                 Traceback (most recent call last)",
      "Cell \u001b[0;32mIn[23], line 1\u001b[0m\n\u001b[0;32m----> 1\u001b[0m \u001b[43mtest3\u001b[49m\u001b[43m(\u001b[49m\u001b[38;5;241;43m1\u001b[39;49m\u001b[43m)\u001b[49m\n",
      "\u001b[0;31mTypeError\u001b[0m: test3() missing 1 required keyword-only argument: 'a'"
     ]
    }
   ],
   "source": [
    "test3(1)"
   ]
  },
  {
   "cell_type": "code",
   "execution_count": 24,
   "id": "771bb403-1d92-43ce-97af-5879302000fc",
   "metadata": {},
   "outputs": [
    {
     "data": {
      "text/plain": [
       "((1, 2, 3), 'Pradosh')"
      ]
     },
     "execution_count": 24,
     "metadata": {},
     "output_type": "execute_result"
    }
   ],
   "source": [
    "test3(1,2,3 ,a=\"Pradosh\")"
   ]
  },
  {
   "cell_type": "code",
   "execution_count": 5,
   "id": "19b26db6-ca3d-40da-9970-ad7bb64aea41",
   "metadata": {},
   "outputs": [],
   "source": [
    "def test4(*args):\n",
    "    l = []\n",
    "    for i in args:\n",
    "        if type(i) == list :\n",
    "            l.append(i)\n",
    "            \n",
    "    return l"
   ]
  },
  {
   "cell_type": "code",
   "execution_count": 7,
   "id": "f59c99ee-d151-4fae-9651-6025057405ed",
   "metadata": {},
   "outputs": [
    {
     "data": {
      "text/plain": [
       "[[1, 2, 3, 4, 4], [4, 5, 6], [6, 7, 8]]"
      ]
     },
     "execution_count": 7,
     "metadata": {},
     "output_type": "execute_result"
    }
   ],
   "source": [
    "test4(1,2,3,[1,2,3,4,4] , (1,2,3,4,4) , \"Pradosh\" , [4,5,6] , [6,7,8])"
   ]
  },
  {
   "cell_type": "code",
   "execution_count": 8,
   "id": "0ef2cbfb-6ae2-4b3c-9419-040d3a47825c",
   "metadata": {},
   "outputs": [],
   "source": [
    "def test5(**kwargs):\n",
    "    return kwargs\n",
    "    "
   ]
  },
  {
   "cell_type": "code",
   "execution_count": 9,
   "id": "52bcefa3-4797-42ae-9d52-ecb9a60805c0",
   "metadata": {},
   "outputs": [
    {
     "data": {
      "text/plain": [
       "{}"
      ]
     },
     "execution_count": 9,
     "metadata": {},
     "output_type": "execute_result"
    }
   ],
   "source": [
    "test5()"
   ]
  },
  {
   "cell_type": "code",
   "execution_count": 10,
   "id": "6710ead8-11d9-4227-a66e-ad875cf38fe5",
   "metadata": {},
   "outputs": [
    {
     "data": {
      "text/plain": [
       "dict"
      ]
     },
     "execution_count": 10,
     "metadata": {},
     "output_type": "execute_result"
    }
   ],
   "source": [
    "type(test5())"
   ]
  },
  {
   "cell_type": "code",
   "execution_count": 11,
   "id": "9eb20b26-981c-4e12-b02d-e5c14a729e4b",
   "metadata": {},
   "outputs": [
    {
     "data": {
      "text/plain": [
       "{'a': 34, 'b': 34, 'c': [15, 22, 24], 'd': ('sudh', 'Pradosh')}"
      ]
     },
     "execution_count": 11,
     "metadata": {},
     "output_type": "execute_result"
    }
   ],
   "source": [
    "test5(a=34,b=34,c=[15,22,24],d=(\"sudh\",\"Pradosh\"))"
   ]
  },
  {
   "cell_type": "code",
   "execution_count": 18,
   "id": "3af6c671-8ead-45b6-8f9f-921aa12e74ef",
   "metadata": {},
   "outputs": [],
   "source": [
    "def test6(**kwargs):\n",
    "    for i in kwargs.keys():\n",
    "        if type(kwargs[i] ) == list :\n",
    "            return i , kwargs[i]"
   ]
  },
  {
   "cell_type": "code",
   "execution_count": 19,
   "id": "9408c1bf-8ab9-4ef6-8a71-3936fca493b3",
   "metadata": {},
   "outputs": [
    {
     "data": {
      "text/plain": [
       "('c', [15, 22, 24])"
      ]
     },
     "execution_count": 19,
     "metadata": {},
     "output_type": "execute_result"
    }
   ],
   "source": [
    "test6(a =34, b = 34 , c = [15,22,24] , d = (\"sudh\",\"Pradosh\"))"
   ]
  },
  {
   "cell_type": "code",
   "execution_count": 20,
   "id": "5b7d5056-57d2-4cd1-b79f-8aa5518c120b",
   "metadata": {},
   "outputs": [],
   "source": [
    "def test7(*args , **kwargs) : \n",
    "    return args , kwargs"
   ]
  },
  {
   "cell_type": "code",
   "execution_count": 21,
   "id": "5bbb7385-c11b-4194-9b74-22917b586235",
   "metadata": {},
   "outputs": [
    {
     "data": {
      "text/plain": [
       "((2, 3, 4, 5), {'a': 34, 'b': 98})"
      ]
     },
     "execution_count": 21,
     "metadata": {},
     "output_type": "execute_result"
    }
   ],
   "source": [
    "test7(2,3,4,5,a= 34, b = 98)"
   ]
  },
  {
   "cell_type": "markdown",
   "id": "c94cf76c-5646-44bf-97e4-ddb57e1fa940",
   "metadata": {},
   "source": [
    "## Generator Functions"
   ]
  },
  {
   "cell_type": "code",
   "execution_count": 2,
   "id": "c4f6dda6-ef71-496c-bf91-1f66b993bff4",
   "metadata": {},
   "outputs": [
    {
     "data": {
      "text/plain": [
       "range(1, 10)"
      ]
     },
     "execution_count": 2,
     "metadata": {},
     "output_type": "execute_result"
    }
   ],
   "source": [
    "range(1,10)"
   ]
  },
  {
   "cell_type": "code",
   "execution_count": 5,
   "id": "3417e83c-1ce8-48ff-8d98-f0bf3c297636",
   "metadata": {},
   "outputs": [
    {
     "name": "stdout",
     "output_type": "stream",
     "text": [
      "1\n",
      "2\n",
      "3\n",
      "4\n",
      "5\n",
      "6\n",
      "7\n",
      "8\n",
      "9\n"
     ]
    }
   ],
   "source": [
    "for i in range(1,10):\n",
    "    print (i)"
   ]
  },
  {
   "cell_type": "code",
   "execution_count": 5,
   "id": "29240159-f7ef-4b1f-a3e8-22efa316d2bc",
   "metadata": {},
   "outputs": [],
   "source": [
    "l = [1,2,3,4,4,5,6,7,8,7,\"sudh\"  , \"pwskills\"]\n"
   ]
  },
  {
   "cell_type": "code",
   "execution_count": 8,
   "id": "9c5ff5cb-4139-4585-b34f-06a72c7c6399",
   "metadata": {},
   "outputs": [],
   "source": [
    "def test1(a): \n",
    "    n = []\n",
    "    for i in a:\n",
    "        if type(i) == int :\n",
    "            n.append(i)\n",
    "    return n"
   ]
  },
  {
   "cell_type": "code",
   "execution_count": 11,
   "id": "f1e5bc3e-85fe-4eee-b87d-836bdcc1db11",
   "metadata": {},
   "outputs": [
    {
     "data": {
      "text/plain": [
       "[1, 2, 3, 4, 4, 5, 6, 7, 8, 7]"
      ]
     },
     "execution_count": 11,
     "metadata": {},
     "output_type": "execute_result"
    }
   ],
   "source": [
    "test1(l)"
   ]
  },
  {
   "cell_type": "code",
   "execution_count": null,
   "id": "356c7bb2-b26f-4a7c-92c3-ebeb45b31e24",
   "metadata": {},
   "outputs": [],
   "source": [
    "fibonacci :\n",
    "    0,1,1,2,3,5,8,13,21,34"
   ]
  },
  {
   "cell_type": "code",
   "execution_count": 12,
   "id": "17b6f034-5ad8-40a6-bc4c-e6f98201189d",
   "metadata": {},
   "outputs": [],
   "source": [
    "def test_fib(n) :\n",
    "    a,b = 0,1\n",
    "    for i in range(n):\n",
    "        yield a \n",
    "        a,b = b ,a+b "
   ]
  },
  {
   "cell_type": "code",
   "execution_count": 13,
   "id": "fbe8a3c8-a31b-483d-94da-4443d384c797",
   "metadata": {},
   "outputs": [
    {
     "data": {
      "text/plain": [
       "<generator object test_fib at 0x7fc7ec7a2ab0>"
      ]
     },
     "execution_count": 13,
     "metadata": {},
     "output_type": "execute_result"
    }
   ],
   "source": [
    "test_fib(10)"
   ]
  },
  {
   "cell_type": "code",
   "execution_count": 14,
   "id": "1fc0a054-7ddc-4afa-9771-67286a1b4123",
   "metadata": {},
   "outputs": [
    {
     "name": "stdout",
     "output_type": "stream",
     "text": [
      "0\n",
      "1\n",
      "1\n",
      "2\n",
      "3\n",
      "5\n",
      "8\n",
      "13\n",
      "21\n",
      "34\n"
     ]
    }
   ],
   "source": [
    "for i in test_fib(10) : \n",
    "    print(i)"
   ]
  },
  {
   "cell_type": "code",
   "execution_count": null,
   "id": "fae18174-be3b-447e-97b4-636358f75430",
   "metadata": {},
   "outputs": [],
   "source": []
  }
 ],
 "metadata": {
  "kernelspec": {
   "display_name": "Python 3 (ipykernel)",
   "language": "python",
   "name": "python3"
  },
  "language_info": {
   "codemirror_mode": {
    "name": "ipython",
    "version": 3
   },
   "file_extension": ".py",
   "mimetype": "text/x-python",
   "name": "python",
   "nbconvert_exporter": "python",
   "pygments_lexer": "ipython3",
   "version": "3.10.8"
  }
 },
 "nbformat": 4,
 "nbformat_minor": 5
}
